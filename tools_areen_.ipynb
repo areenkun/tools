{
  "nbformat": 4,
  "nbformat_minor": 0,
  "metadata": {
    "colab": {
      "provenance": [],
      "collapsed_sections": [
        "21-Wb8ywqQeJ",
        "tfqZKip9d6DY",
        "sICPfKnZCTVZ",
        "rlX9RzFJRoW-",
        "eWs-zl2gNvwW",
        "IoAshgcf45gs",
        "o1PFiGyMAMvg",
        "BjYXYIk0VaYE",
        "l8uIsoVrC6to",
        "4DdRcv08fzTG",
        "OOpAjMjxsNd6",
        "UdiQLlm5zX3_"
      ],
      "toc_visible": true
    },
    "kernelspec": {
      "name": "python3",
      "display_name": "Python 3"
    },
    "language_info": {
      "name": "python"
    },
    "accelerator": "GPU"
  },
  "cells": [
    {
      "cell_type": "markdown",
      "metadata": {
        "id": "HSl5s0SFmein"
      },
      "source": [
        "<a href=\"https://github.com/shirooo39/MiXLab\" target=\"_blank\">\n",
        "<img src=\"https://github.com/fluidicon.png\" height=\"100px\" align=\"left\"></a>\n",
        "\n",
        "# <font size=6><center>**Welcome to <font color=1DA261>A</font><font color=FFCf4C>reen</font><font color=4789F4>'s</font>  Lab!**</center></font>\n",
        "\n",
        "<font size=4><center>This Notebook is a stripped down version of <a href=\"https://areenkun.blogspot.com/\" target=\"_blank\">tools@areen_</a>.</center></font>"
      ]
    },
    {
      "cell_type": "markdown",
      "source": [
        "## <font size=6><center>✦ *Login G-drive* ✦</center></font>\n",
        "---"
      ],
      "metadata": {
        "id": "3CLSXxq8errX"
      }
    },
    {
      "cell_type": "markdown",
      "metadata": {
        "id": "21-Wb8ywqQeJ"
      },
      "source": [
        "## <font size=6><center>✦ *Colab Stay Alive* ✦</center></font>\n",
        "---"
      ]
    },
    {
      "cell_type": "code",
      "metadata": {
        "id": "nYEj5CeCqbTY"
      },
      "source": [
        "# ============================= FORM ============================= #\n",
        "# @markdown <font size=5>← [Start] Colab Stay Alive</font>\n",
        "# @markdown This cell runs a JS code that will automatically press the reconnect button when you got disconnected due to idle.\n",
        "# ================================================================ #\n",
        "\n",
        "import IPython\n",
        "from IPython.display import clear_output\n",
        "from google.colab import output\n",
        "\n",
        "display(IPython.display.Javascript('''\n",
        " function ClickConnect(){\n",
        "   btn = document.querySelector(\"colab-connect-button\")\n",
        "   if (btn != null){\n",
        "     console.log(\"Clicked on the connect button\"); \n",
        "     btn.click() \n",
        "     }\n",
        "   \n",
        "   btn = document.getElementById('connect')\n",
        "   if (btn != null){\n",
        "     console.log(\"Clicked on the reconnect button\"); \n",
        "     btn.click() \n",
        "     }\n",
        "  }\n",
        "  \n",
        "setInterval(ClickConnect,60000)\n",
        "'''))\n",
        "\n",
        "clear_output()"
      ],
      "execution_count": null,
      "outputs": []
    },
    {
      "cell_type": "code",
      "source": [
        "from google.colab import drive\n",
        "drive.mount('/content/drive')"
      ],
      "metadata": {
        "id": "fLEdMSEIe0pC"
      },
      "execution_count": null,
      "outputs": []
    },
    {
      "cell_type": "markdown",
      "source": [
        "# **Install ffmpeg**\n",
        "\n",
        "You need to install [ffmpeg](https://ffmpeg.org), a cross-platform solution to record, convert and stream audio and video. Just run the cell to install."
      ],
      "metadata": {
        "id": "tfqZKip9d6DY"
      }
    },
    {
      "cell_type": "code",
      "source": [
        "!sudo apt update && sudo apt install ffmpeg"
      ],
      "metadata": {
        "id": "3-Dnd7vkdVmc"
      },
      "execution_count": null,
      "outputs": []
    },
    {
      "cell_type": "markdown",
      "source": [
        "# <font size=6><center>✦ *OpenAI's Whisper* ✦</center></font>\n",
        "---"
      ],
      "metadata": {
        "id": "sICPfKnZCTVZ"
      }
    },
    {
      "cell_type": "code",
      "source": [
        "!pip install git+https://github.com/m1guelpf/yt-whisper.git"
      ],
      "metadata": {
        "id": "Tm13b_UzdYIe"
      },
      "execution_count": null,
      "outputs": []
    },
    {
      "cell_type": "code",
      "source": [
        "!yt_whisper \"https://www.youtube.com/watch?v=dQw4w9WgXcQ\" --language English --model large"
      ],
      "metadata": {
        "id": "gw71AuYueTI6"
      },
      "execution_count": null,
      "outputs": []
    },
    {
      "cell_type": "markdown",
      "source": [
        "## Install Whisper\n",
        "\n",
        "This step will install the latest commit from the OpenAI repository on Github. Just run the cell below to install.\n",
        "\n"
      ],
      "metadata": {
        "id": "DEZezug-DzPB"
      }
    },
    {
      "cell_type": "code",
      "execution_count": null,
      "metadata": {
        "colab": {
          "base_uri": "https://localhost:8080/"
        },
        "id": "XRRPAS8t1DXJ",
        "outputId": "9f9d6b29-9077-49ae-84e3-dafb01efbcf9"
      },
      "outputs": [
        {
          "output_type": "stream",
          "name": "stdout",
          "text": [
            "Looking in indexes: https://pypi.org/simple, https://us-python.pkg.dev/colab-wheels/public/simple/\n",
            "Collecting git+https://github.com/openai/whisper.git\n",
            "  Cloning https://github.com/openai/whisper.git to /tmp/pip-req-build-jv6qsjr4\n",
            "  Running command git clone -q https://github.com/openai/whisper.git /tmp/pip-req-build-jv6qsjr4\n",
            "Requirement already satisfied: numpy in /usr/local/lib/python3.7/dist-packages (from whisper==1.0) (1.21.6)\n",
            "Requirement already satisfied: torch in /usr/local/lib/python3.7/dist-packages (from whisper==1.0) (1.12.1+cu113)\n",
            "Requirement already satisfied: tqdm in /usr/local/lib/python3.7/dist-packages (from whisper==1.0) (4.64.1)\n",
            "Requirement already satisfied: more-itertools in /usr/local/lib/python3.7/dist-packages (from whisper==1.0) (9.0.0)\n",
            "Requirement already satisfied: transformers>=4.19.0 in /usr/local/lib/python3.7/dist-packages (from whisper==1.0) (4.23.1)\n",
            "Requirement already satisfied: ffmpeg-python==0.2.0 in /usr/local/lib/python3.7/dist-packages (from whisper==1.0) (0.2.0)\n",
            "Requirement already satisfied: future in /usr/local/lib/python3.7/dist-packages (from ffmpeg-python==0.2.0->whisper==1.0) (0.16.0)\n",
            "Requirement already satisfied: regex!=2019.12.17 in /usr/local/lib/python3.7/dist-packages (from transformers>=4.19.0->whisper==1.0) (2022.6.2)\n",
            "Requirement already satisfied: requests in /usr/local/lib/python3.7/dist-packages (from transformers>=4.19.0->whisper==1.0) (2.23.0)\n",
            "Requirement already satisfied: tokenizers!=0.11.3,<0.14,>=0.11.1 in /usr/local/lib/python3.7/dist-packages (from transformers>=4.19.0->whisper==1.0) (0.13.1)\n",
            "Requirement already satisfied: packaging>=20.0 in /usr/local/lib/python3.7/dist-packages (from transformers>=4.19.0->whisper==1.0) (21.3)\n",
            "Requirement already satisfied: filelock in /usr/local/lib/python3.7/dist-packages (from transformers>=4.19.0->whisper==1.0) (3.8.0)\n",
            "Requirement already satisfied: importlib-metadata in /usr/local/lib/python3.7/dist-packages (from transformers>=4.19.0->whisper==1.0) (4.13.0)\n",
            "Requirement already satisfied: pyyaml>=5.1 in /usr/local/lib/python3.7/dist-packages (from transformers>=4.19.0->whisper==1.0) (6.0)\n",
            "Requirement already satisfied: huggingface-hub<1.0,>=0.10.0 in /usr/local/lib/python3.7/dist-packages (from transformers>=4.19.0->whisper==1.0) (0.10.1)\n",
            "Requirement already satisfied: typing-extensions>=3.7.4.3 in /usr/local/lib/python3.7/dist-packages (from huggingface-hub<1.0,>=0.10.0->transformers>=4.19.0->whisper==1.0) (4.1.1)\n",
            "Requirement already satisfied: pyparsing!=3.0.5,>=2.0.2 in /usr/local/lib/python3.7/dist-packages (from packaging>=20.0->transformers>=4.19.0->whisper==1.0) (3.0.9)\n",
            "Requirement already satisfied: zipp>=0.5 in /usr/local/lib/python3.7/dist-packages (from importlib-metadata->transformers>=4.19.0->whisper==1.0) (3.9.0)\n",
            "Requirement already satisfied: idna<3,>=2.5 in /usr/local/lib/python3.7/dist-packages (from requests->transformers>=4.19.0->whisper==1.0) (2.10)\n",
            "Requirement already satisfied: certifi>=2017.4.17 in /usr/local/lib/python3.7/dist-packages (from requests->transformers>=4.19.0->whisper==1.0) (2022.9.24)\n",
            "Requirement already satisfied: urllib3!=1.25.0,!=1.25.1,<1.26,>=1.21.1 in /usr/local/lib/python3.7/dist-packages (from requests->transformers>=4.19.0->whisper==1.0) (1.24.3)\n",
            "Requirement already satisfied: chardet<4,>=3.0.2 in /usr/local/lib/python3.7/dist-packages (from requests->transformers>=4.19.0->whisper==1.0) (3.0.4)\n",
            "Looking in indexes: https://pypi.org/simple, https://us-python.pkg.dev/colab-wheels/public/simple/\n",
            "Collecting gradio\n",
            "  Downloading gradio-3.6-py3-none-any.whl (5.3 MB)\n",
            "\u001b[K     |████████████████████████████████| 5.3 MB 15.9 MB/s \n",
            "\u001b[?25hCollecting fastapi\n",
            "  Downloading fastapi-0.85.1-py3-none-any.whl (55 kB)\n",
            "\u001b[K     |████████████████████████████████| 55 kB 3.6 MB/s \n",
            "\u001b[?25hCollecting pydub\n",
            "  Downloading pydub-0.25.1-py2.py3-none-any.whl (32 kB)\n",
            "Requirement already satisfied: fsspec in /usr/local/lib/python3.7/dist-packages (from gradio) (2022.10.0)\n",
            "Requirement already satisfied: pyyaml in /usr/local/lib/python3.7/dist-packages (from gradio) (6.0)\n",
            "Collecting orjson\n",
            "  Downloading orjson-3.8.1-cp37-cp37m-manylinux_2_17_x86_64.manylinux2014_x86_64.whl (272 kB)\n",
            "\u001b[K     |████████████████████████████████| 272 kB 60.3 MB/s \n",
            "\u001b[?25hCollecting markdown-it-py[linkify,plugins]\n",
            "  Downloading markdown_it_py-2.1.0-py3-none-any.whl (84 kB)\n",
            "\u001b[K     |████████████████████████████████| 84 kB 3.4 MB/s \n",
            "\u001b[?25hRequirement already satisfied: aiohttp in /usr/local/lib/python3.7/dist-packages (from gradio) (3.8.3)\n",
            "Collecting python-multipart\n",
            "  Downloading python-multipart-0.0.5.tar.gz (32 kB)\n",
            "Requirement already satisfied: jinja2 in /usr/local/lib/python3.7/dist-packages (from gradio) (2.11.3)\n",
            "Requirement already satisfied: requests in /usr/local/lib/python3.7/dist-packages (from gradio) (2.23.0)\n",
            "Requirement already satisfied: pillow in /usr/local/lib/python3.7/dist-packages (from gradio) (7.1.2)\n",
            "Requirement already satisfied: matplotlib in /usr/local/lib/python3.7/dist-packages (from gradio) (3.2.2)\n",
            "Collecting uvicorn\n",
            "  Downloading uvicorn-0.19.0-py3-none-any.whl (56 kB)\n",
            "\u001b[K     |████████████████████████████████| 56 kB 4.8 MB/s \n",
            "\u001b[?25hCollecting h11<0.13,>=0.11\n",
            "  Downloading h11-0.12.0-py3-none-any.whl (54 kB)\n",
            "\u001b[K     |████████████████████████████████| 54 kB 3.5 MB/s \n",
            "\u001b[?25hCollecting paramiko\n",
            "  Downloading paramiko-2.11.0-py2.py3-none-any.whl (212 kB)\n",
            "\u001b[K     |████████████████████████████████| 212 kB 67.3 MB/s \n",
            "\u001b[?25hCollecting httpx\n",
            "  Downloading httpx-0.23.0-py3-none-any.whl (84 kB)\n",
            "\u001b[K     |████████████████████████████████| 84 kB 3.6 MB/s \n",
            "\u001b[?25hRequirement already satisfied: numpy in /usr/local/lib/python3.7/dist-packages (from gradio) (1.21.6)\n",
            "Collecting ffmpy\n",
            "  Downloading ffmpy-0.3.0.tar.gz (4.8 kB)\n",
            "Collecting pycryptodome\n",
            "  Downloading pycryptodome-3.15.0-cp35-abi3-manylinux2010_x86_64.whl (2.3 MB)\n",
            "\u001b[K     |████████████████████████████████| 2.3 MB 64.3 MB/s \n",
            "\u001b[?25hRequirement already satisfied: pandas in /usr/local/lib/python3.7/dist-packages (from gradio) (1.3.5)\n",
            "Collecting websockets\n",
            "  Downloading websockets-10.3-cp37-cp37m-manylinux_2_5_x86_64.manylinux1_x86_64.manylinux_2_12_x86_64.manylinux2010_x86_64.whl (112 kB)\n",
            "\u001b[K     |████████████████████████████████| 112 kB 69.9 MB/s \n",
            "\u001b[?25hRequirement already satisfied: pydantic in /usr/local/lib/python3.7/dist-packages (from gradio) (1.10.2)\n",
            "Requirement already satisfied: charset-normalizer<3.0,>=2.0 in /usr/local/lib/python3.7/dist-packages (from aiohttp->gradio) (2.1.1)\n",
            "Requirement already satisfied: aiosignal>=1.1.2 in /usr/local/lib/python3.7/dist-packages (from aiohttp->gradio) (1.2.0)\n",
            "Requirement already satisfied: attrs>=17.3.0 in /usr/local/lib/python3.7/dist-packages (from aiohttp->gradio) (22.1.0)\n",
            "Requirement already satisfied: multidict<7.0,>=4.5 in /usr/local/lib/python3.7/dist-packages (from aiohttp->gradio) (6.0.2)\n",
            "Requirement already satisfied: frozenlist>=1.1.1 in /usr/local/lib/python3.7/dist-packages (from aiohttp->gradio) (1.3.1)\n",
            "Requirement already satisfied: async-timeout<5.0,>=4.0.0a3 in /usr/local/lib/python3.7/dist-packages (from aiohttp->gradio) (4.0.2)\n",
            "Requirement already satisfied: yarl<2.0,>=1.0 in /usr/local/lib/python3.7/dist-packages (from aiohttp->gradio) (1.8.1)\n",
            "Requirement already satisfied: typing-extensions>=3.7.4 in /usr/local/lib/python3.7/dist-packages (from aiohttp->gradio) (4.1.1)\n",
            "Requirement already satisfied: asynctest==0.13.0 in /usr/local/lib/python3.7/dist-packages (from aiohttp->gradio) (0.13.0)\n",
            "Requirement already satisfied: idna>=2.0 in /usr/local/lib/python3.7/dist-packages (from yarl<2.0,>=1.0->aiohttp->gradio) (2.10)\n",
            "Collecting starlette==0.20.4\n",
            "  Downloading starlette-0.20.4-py3-none-any.whl (63 kB)\n",
            "\u001b[K     |████████████████████████████████| 63 kB 2.5 MB/s \n",
            "\u001b[?25hCollecting anyio<5,>=3.4.0\n",
            "  Downloading anyio-3.6.2-py3-none-any.whl (80 kB)\n",
            "\u001b[K     |████████████████████████████████| 80 kB 7.8 MB/s \n",
            "\u001b[?25hCollecting sniffio>=1.1\n",
            "  Downloading sniffio-1.3.0-py3-none-any.whl (10 kB)\n",
            "Collecting rfc3986[idna2008]<2,>=1.3\n",
            "  Downloading rfc3986-1.5.0-py2.py3-none-any.whl (31 kB)\n",
            "Requirement already satisfied: certifi in /usr/local/lib/python3.7/dist-packages (from httpx->gradio) (2022.9.24)\n",
            "Collecting httpcore<0.16.0,>=0.15.0\n",
            "  Downloading httpcore-0.15.0-py3-none-any.whl (68 kB)\n",
            "\u001b[K     |████████████████████████████████| 68 kB 7.5 MB/s \n",
            "\u001b[?25hRequirement already satisfied: MarkupSafe>=0.23 in /usr/local/lib/python3.7/dist-packages (from jinja2->gradio) (2.0.1)\n",
            "Collecting mdurl~=0.1\n",
            "  Downloading mdurl-0.1.2-py3-none-any.whl (10.0 kB)\n",
            "Collecting linkify-it-py~=1.0\n",
            "  Downloading linkify_it_py-1.0.3-py3-none-any.whl (19 kB)\n",
            "Collecting mdit-py-plugins\n",
            "  Downloading mdit_py_plugins-0.3.1-py3-none-any.whl (46 kB)\n",
            "\u001b[K     |████████████████████████████████| 46 kB 4.0 MB/s \n",
            "\u001b[?25hCollecting uc-micro-py\n",
            "  Downloading uc_micro_py-1.0.1-py3-none-any.whl (6.2 kB)\n",
            "Requirement already satisfied: kiwisolver>=1.0.1 in /usr/local/lib/python3.7/dist-packages (from matplotlib->gradio) (1.4.4)\n",
            "Requirement already satisfied: python-dateutil>=2.1 in /usr/local/lib/python3.7/dist-packages (from matplotlib->gradio) (2.8.2)\n",
            "Requirement already satisfied: cycler>=0.10 in /usr/local/lib/python3.7/dist-packages (from matplotlib->gradio) (0.11.0)\n",
            "Requirement already satisfied: pyparsing!=2.0.4,!=2.1.2,!=2.1.6,>=2.0.1 in /usr/local/lib/python3.7/dist-packages (from matplotlib->gradio) (3.0.9)\n",
            "Requirement already satisfied: six>=1.5 in /usr/local/lib/python3.7/dist-packages (from python-dateutil>=2.1->matplotlib->gradio) (1.15.0)\n",
            "Requirement already satisfied: pytz>=2017.3 in /usr/local/lib/python3.7/dist-packages (from pandas->gradio) (2022.5)\n",
            "Collecting cryptography>=2.5\n",
            "  Downloading cryptography-38.0.1-cp36-abi3-manylinux_2_24_x86_64.whl (4.0 MB)\n",
            "\u001b[K     |████████████████████████████████| 4.0 MB 63.9 MB/s \n",
            "\u001b[?25hCollecting pynacl>=1.0.1\n",
            "  Downloading PyNaCl-1.5.0-cp36-abi3-manylinux_2_17_x86_64.manylinux2014_x86_64.manylinux_2_24_x86_64.whl (856 kB)\n",
            "\u001b[K     |████████████████████████████████| 856 kB 46.9 MB/s \n",
            "\u001b[?25hCollecting bcrypt>=3.1.3\n",
            "  Downloading bcrypt-4.0.1-cp36-abi3-manylinux_2_24_x86_64.whl (593 kB)\n",
            "\u001b[K     |████████████████████████████████| 593 kB 69.5 MB/s \n",
            "\u001b[?25hRequirement already satisfied: cffi>=1.12 in /usr/local/lib/python3.7/dist-packages (from cryptography>=2.5->paramiko->gradio) (1.15.1)\n",
            "Requirement already satisfied: pycparser in /usr/local/lib/python3.7/dist-packages (from cffi>=1.12->cryptography>=2.5->paramiko->gradio) (2.21)\n",
            "Requirement already satisfied: chardet<4,>=3.0.2 in /usr/local/lib/python3.7/dist-packages (from requests->gradio) (3.0.4)\n",
            "Requirement already satisfied: urllib3!=1.25.0,!=1.25.1,<1.26,>=1.21.1 in /usr/local/lib/python3.7/dist-packages (from requests->gradio) (1.24.3)\n",
            "Requirement already satisfied: click>=7.0 in /usr/local/lib/python3.7/dist-packages (from uvicorn->gradio) (7.1.2)\n",
            "Building wheels for collected packages: ffmpy, python-multipart\n",
            "  Building wheel for ffmpy (setup.py) ... \u001b[?25l\u001b[?25hdone\n",
            "  Created wheel for ffmpy: filename=ffmpy-0.3.0-py3-none-any.whl size=4712 sha256=0a3a3854ea5b72649a08a5badb25a2d5e7ed0a65624cd3b8f6be17dc0a7eb9d5\n",
            "  Stored in directory: /root/.cache/pip/wheels/13/e4/6c/e8059816e86796a597c6e6b0d4c880630f51a1fcfa0befd5e6\n",
            "  Building wheel for python-multipart (setup.py) ... \u001b[?25l\u001b[?25hdone\n",
            "  Created wheel for python-multipart: filename=python_multipart-0.0.5-py3-none-any.whl size=31678 sha256=cbda4b4e890d4d52f41528572157b23e67bcb7c3b14b0be8184b1e49013614ef\n",
            "  Stored in directory: /root/.cache/pip/wheels/2c/41/7c/bfd1c180534ffdcc0972f78c5758f89881602175d48a8bcd2c\n",
            "Successfully built ffmpy python-multipart\n",
            "Installing collected packages: sniffio, mdurl, uc-micro-py, rfc3986, markdown-it-py, h11, anyio, starlette, pynacl, mdit-py-plugins, linkify-it-py, httpcore, cryptography, bcrypt, websockets, uvicorn, python-multipart, pydub, pycryptodome, paramiko, orjson, httpx, ffmpy, fastapi, gradio\n",
            "Successfully installed anyio-3.6.2 bcrypt-4.0.1 cryptography-38.0.1 fastapi-0.85.1 ffmpy-0.3.0 gradio-3.6 h11-0.12.0 httpcore-0.15.0 httpx-0.23.0 linkify-it-py-1.0.3 markdown-it-py-2.1.0 mdit-py-plugins-0.3.1 mdurl-0.1.2 orjson-3.8.1 paramiko-2.11.0 pycryptodome-3.15.0 pydub-0.25.1 pynacl-1.5.0 python-multipart-0.0.5 rfc3986-1.5.0 sniffio-1.3.0 starlette-0.20.4 uc-micro-py-1.0.1 uvicorn-0.19.0 websockets-10.3\n"
          ]
        }
      ],
      "source": [
        "!pip install git+https://github.com/openai/whisper.git\n",
        "!pip install gradio"
      ]
    },
    {
      "cell_type": "markdown",
      "source": [
        "## **Clone git**"
      ],
      "metadata": {
        "id": "HPqOWeOHNrVO"
      }
    },
    {
      "cell_type": "code",
      "source": [
        "!git clone https://github.com/tomchang25/whisper-auto-transcribe.git && cd whisper-auto-transcribe"
      ],
      "metadata": {
        "id": "DtaZfDmENq2B",
        "outputId": "3001ce37-e7ef-494b-9cd6-edf53d23a9c1",
        "colab": {
          "base_uri": "https://localhost:8080/"
        }
      },
      "execution_count": null,
      "outputs": [
        {
          "output_type": "stream",
          "name": "stdout",
          "text": [
            "Cloning into 'whisper-auto-transcribe'...\n",
            "remote: Enumerating objects: 325, done.\u001b[K\n",
            "remote: Counting objects: 100% (199/199), done.\u001b[K\n",
            "remote: Compressing objects: 100% (154/154), done.\u001b[K\n",
            "remote: Total 325 (delta 137), reused 65 (delta 45), pack-reused 126\u001b[K\n",
            "Receiving objects: 100% (325/325), 42.52 MiB | 16.92 MiB/s, done.\n",
            "Resolving deltas: 100% (168/168), done.\n"
          ]
        }
      ]
    },
    {
      "cell_type": "markdown",
      "source": [
        "## **Reinstall CPU**"
      ],
      "metadata": {
        "id": "BtciGVNqOUnX"
      }
    },
    {
      "cell_type": "code",
      "source": [
        "!pip uninstall torch torchvision torchaudio --yes\n",
        "!pip install spleeter\n",
        "!pip install torch torchvision torchaudio --extra-index-url https://download.pytorch.org/whl/cu113"
      ],
      "metadata": {
        "id": "0PFzgTHXOair",
        "outputId": "1e8b717b-dc7e-44e5-ae52-9e1846ac533b",
        "colab": {
          "base_uri": "https://localhost:8080/"
        }
      },
      "execution_count": null,
      "outputs": [
        {
          "output_type": "stream",
          "name": "stdout",
          "text": [
            "Found existing installation: torch 1.12.1+cu113\n",
            "Uninstalling torch-1.12.1+cu113:\n",
            "  Successfully uninstalled torch-1.12.1+cu113\n",
            "Found existing installation: torchvision 0.13.1+cu113\n",
            "Uninstalling torchvision-0.13.1+cu113:\n",
            "  Successfully uninstalled torchvision-0.13.1+cu113\n",
            "Found existing installation: torchaudio 0.12.1+cu113\n",
            "Uninstalling torchaudio-0.12.1+cu113:\n",
            "  Successfully uninstalled torchaudio-0.12.1+cu113\n",
            "Looking in indexes: https://pypi.org/simple, https://us-python.pkg.dev/colab-wheels/public/simple/\n",
            "Requirement already satisfied: spleeter in /usr/local/lib/python3.7/dist-packages (2.3.2)\n",
            "Requirement already satisfied: ffmpeg-python==0.2.0 in /usr/local/lib/python3.7/dist-packages (from spleeter) (0.2.0)\n",
            "Requirement already satisfied: importlib-metadata<4.0.0,>=3.0.0 in /usr/local/lib/python3.7/dist-packages (from spleeter) (3.10.1)\n",
            "Requirement already satisfied: numpy<2.0.0,>=1.19.2 in /usr/local/lib/python3.7/dist-packages (from spleeter) (1.21.6)\n",
            "Requirement already satisfied: librosa<0.9.0,>=0.8.0 in /usr/local/lib/python3.7/dist-packages (from spleeter) (0.8.1)\n",
            "Requirement already satisfied: pandas<2.0,>=1.2 in /usr/local/lib/python3.7/dist-packages (from spleeter) (1.3.5)\n",
            "Requirement already satisfied: protobuf<4.0.0,>=3.19.4 in /usr/local/lib/python3.7/dist-packages (from spleeter) (3.19.6)\n",
            "Requirement already satisfied: tensorflow<3.0.0,>=2.5.0 in /usr/local/lib/python3.7/dist-packages (from spleeter) (2.9.2)\n",
            "Requirement already satisfied: llvmlite<0.39.0,>=0.38.0 in /usr/local/lib/python3.7/dist-packages (from spleeter) (0.38.1)\n",
            "Requirement already satisfied: typer<0.4.0,>=0.3.2 in /usr/local/lib/python3.7/dist-packages (from spleeter) (0.3.2)\n",
            "Requirement already satisfied: norbert==0.2.1 in /usr/local/lib/python3.7/dist-packages (from spleeter) (0.2.1)\n",
            "Requirement already satisfied: httpx[http2]<0.20.0,>=0.19.0 in /usr/local/lib/python3.7/dist-packages (from spleeter) (0.19.0)\n",
            "Requirement already satisfied: future in /usr/local/lib/python3.7/dist-packages (from ffmpeg-python==0.2.0->spleeter) (0.16.0)\n",
            "Requirement already satisfied: scipy in /usr/local/lib/python3.7/dist-packages (from norbert==0.2.1->spleeter) (1.7.3)\n",
            "Requirement already satisfied: httpcore<0.14.0,>=0.13.3 in /usr/local/lib/python3.7/dist-packages (from httpx[http2]<0.20.0,>=0.19.0->spleeter) (0.13.7)\n",
            "Requirement already satisfied: certifi in /usr/local/lib/python3.7/dist-packages (from httpx[http2]<0.20.0,>=0.19.0->spleeter) (2022.9.24)\n",
            "Requirement already satisfied: sniffio in /usr/local/lib/python3.7/dist-packages (from httpx[http2]<0.20.0,>=0.19.0->spleeter) (1.3.0)\n",
            "Requirement already satisfied: charset-normalizer in /usr/local/lib/python3.7/dist-packages (from httpx[http2]<0.20.0,>=0.19.0->spleeter) (2.1.1)\n",
            "Requirement already satisfied: rfc3986[idna2008]<2,>=1.3 in /usr/local/lib/python3.7/dist-packages (from httpx[http2]<0.20.0,>=0.19.0->spleeter) (1.5.0)\n",
            "Requirement already satisfied: h2<5,>=3 in /usr/local/lib/python3.7/dist-packages (from httpx[http2]<0.20.0,>=0.19.0->spleeter) (4.1.0)\n",
            "Requirement already satisfied: hyperframe<7,>=6.0 in /usr/local/lib/python3.7/dist-packages (from h2<5,>=3->httpx[http2]<0.20.0,>=0.19.0->spleeter) (6.0.1)\n",
            "Requirement already satisfied: hpack<5,>=4.0 in /usr/local/lib/python3.7/dist-packages (from h2<5,>=3->httpx[http2]<0.20.0,>=0.19.0->spleeter) (4.0.0)\n",
            "Requirement already satisfied: h11<0.13,>=0.11 in /usr/local/lib/python3.7/dist-packages (from httpcore<0.14.0,>=0.13.3->httpx[http2]<0.20.0,>=0.19.0->spleeter) (0.12.0)\n",
            "Requirement already satisfied: anyio==3.* in /usr/local/lib/python3.7/dist-packages (from httpcore<0.14.0,>=0.13.3->httpx[http2]<0.20.0,>=0.19.0->spleeter) (3.6.2)\n",
            "Requirement already satisfied: typing-extensions in /usr/local/lib/python3.7/dist-packages (from anyio==3.*->httpcore<0.14.0,>=0.13.3->httpx[http2]<0.20.0,>=0.19.0->spleeter) (4.1.1)\n",
            "Requirement already satisfied: idna>=2.8 in /usr/local/lib/python3.7/dist-packages (from anyio==3.*->httpcore<0.14.0,>=0.13.3->httpx[http2]<0.20.0,>=0.19.0->spleeter) (2.10)\n",
            "Requirement already satisfied: zipp>=0.5 in /usr/local/lib/python3.7/dist-packages (from importlib-metadata<4.0.0,>=3.0.0->spleeter) (3.9.0)\n",
            "Requirement already satisfied: resampy>=0.2.2 in /usr/local/lib/python3.7/dist-packages (from librosa<0.9.0,>=0.8.0->spleeter) (0.4.2)\n",
            "Requirement already satisfied: numba>=0.43.0 in /usr/local/lib/python3.7/dist-packages (from librosa<0.9.0,>=0.8.0->spleeter) (0.55.2)\n",
            "Requirement already satisfied: decorator>=3.0.0 in /usr/local/lib/python3.7/dist-packages (from librosa<0.9.0,>=0.8.0->spleeter) (4.4.2)\n",
            "Requirement already satisfied: pooch>=1.0 in /usr/local/lib/python3.7/dist-packages (from librosa<0.9.0,>=0.8.0->spleeter) (1.6.0)\n",
            "Requirement already satisfied: audioread>=2.0.0 in /usr/local/lib/python3.7/dist-packages (from librosa<0.9.0,>=0.8.0->spleeter) (3.0.0)\n",
            "Requirement already satisfied: joblib>=0.14 in /usr/local/lib/python3.7/dist-packages (from librosa<0.9.0,>=0.8.0->spleeter) (1.2.0)\n",
            "Requirement already satisfied: soundfile>=0.10.2 in /usr/local/lib/python3.7/dist-packages (from librosa<0.9.0,>=0.8.0->spleeter) (0.11.0)\n",
            "Requirement already satisfied: packaging>=20.0 in /usr/local/lib/python3.7/dist-packages (from librosa<0.9.0,>=0.8.0->spleeter) (21.3)\n",
            "Requirement already satisfied: scikit-learn!=0.19.0,>=0.14.0 in /usr/local/lib/python3.7/dist-packages (from librosa<0.9.0,>=0.8.0->spleeter) (1.0.2)\n",
            "Requirement already satisfied: setuptools in /usr/local/lib/python3.7/dist-packages (from numba>=0.43.0->librosa<0.9.0,>=0.8.0->spleeter) (57.4.0)\n",
            "Requirement already satisfied: pyparsing!=3.0.5,>=2.0.2 in /usr/local/lib/python3.7/dist-packages (from packaging>=20.0->librosa<0.9.0,>=0.8.0->spleeter) (3.0.9)\n",
            "Requirement already satisfied: pytz>=2017.3 in /usr/local/lib/python3.7/dist-packages (from pandas<2.0,>=1.2->spleeter) (2022.5)\n",
            "Requirement already satisfied: python-dateutil>=2.7.3 in /usr/local/lib/python3.7/dist-packages (from pandas<2.0,>=1.2->spleeter) (2.8.2)\n",
            "Requirement already satisfied: requests>=2.19.0 in /usr/local/lib/python3.7/dist-packages (from pooch>=1.0->librosa<0.9.0,>=0.8.0->spleeter) (2.23.0)\n",
            "Requirement already satisfied: appdirs>=1.3.0 in /usr/local/lib/python3.7/dist-packages (from pooch>=1.0->librosa<0.9.0,>=0.8.0->spleeter) (1.4.4)\n",
            "Requirement already satisfied: six>=1.5 in /usr/local/lib/python3.7/dist-packages (from python-dateutil>=2.7.3->pandas<2.0,>=1.2->spleeter) (1.15.0)\n",
            "Requirement already satisfied: urllib3!=1.25.0,!=1.25.1,<1.26,>=1.21.1 in /usr/local/lib/python3.7/dist-packages (from requests>=2.19.0->pooch>=1.0->librosa<0.9.0,>=0.8.0->spleeter) (1.24.3)\n",
            "Requirement already satisfied: chardet<4,>=3.0.2 in /usr/local/lib/python3.7/dist-packages (from requests>=2.19.0->pooch>=1.0->librosa<0.9.0,>=0.8.0->spleeter) (3.0.4)\n",
            "Requirement already satisfied: threadpoolctl>=2.0.0 in /usr/local/lib/python3.7/dist-packages (from scikit-learn!=0.19.0,>=0.14.0->librosa<0.9.0,>=0.8.0->spleeter) (3.1.0)\n",
            "Requirement already satisfied: cffi>=1.0 in /usr/local/lib/python3.7/dist-packages (from soundfile>=0.10.2->librosa<0.9.0,>=0.8.0->spleeter) (1.15.1)\n",
            "Requirement already satisfied: pycparser in /usr/local/lib/python3.7/dist-packages (from cffi>=1.0->soundfile>=0.10.2->librosa<0.9.0,>=0.8.0->spleeter) (2.21)\n",
            "Requirement already satisfied: tensorflow-io-gcs-filesystem>=0.23.1 in /usr/local/lib/python3.7/dist-packages (from tensorflow<3.0.0,>=2.5.0->spleeter) (0.27.0)\n",
            "Requirement already satisfied: grpcio<2.0,>=1.24.3 in /usr/local/lib/python3.7/dist-packages (from tensorflow<3.0.0,>=2.5.0->spleeter) (1.50.0)\n",
            "Requirement already satisfied: google-pasta>=0.1.1 in /usr/local/lib/python3.7/dist-packages (from tensorflow<3.0.0,>=2.5.0->spleeter) (0.2.0)\n",
            "Requirement already satisfied: opt-einsum>=2.3.2 in /usr/local/lib/python3.7/dist-packages (from tensorflow<3.0.0,>=2.5.0->spleeter) (3.3.0)\n",
            "Requirement already satisfied: keras-preprocessing>=1.1.1 in /usr/local/lib/python3.7/dist-packages (from tensorflow<3.0.0,>=2.5.0->spleeter) (1.1.2)\n",
            "Requirement already satisfied: tensorflow-estimator<2.10.0,>=2.9.0rc0 in /usr/local/lib/python3.7/dist-packages (from tensorflow<3.0.0,>=2.5.0->spleeter) (2.9.0)\n",
            "Requirement already satisfied: flatbuffers<2,>=1.12 in /usr/local/lib/python3.7/dist-packages (from tensorflow<3.0.0,>=2.5.0->spleeter) (1.12)\n",
            "Requirement already satisfied: libclang>=13.0.0 in /usr/local/lib/python3.7/dist-packages (from tensorflow<3.0.0,>=2.5.0->spleeter) (14.0.6)\n",
            "Requirement already satisfied: absl-py>=1.0.0 in /usr/local/lib/python3.7/dist-packages (from tensorflow<3.0.0,>=2.5.0->spleeter) (1.3.0)\n",
            "Requirement already satisfied: wrapt>=1.11.0 in /usr/local/lib/python3.7/dist-packages (from tensorflow<3.0.0,>=2.5.0->spleeter) (1.14.1)\n",
            "Requirement already satisfied: h5py>=2.9.0 in /usr/local/lib/python3.7/dist-packages (from tensorflow<3.0.0,>=2.5.0->spleeter) (3.1.0)\n",
            "Requirement already satisfied: astunparse>=1.6.0 in /usr/local/lib/python3.7/dist-packages (from tensorflow<3.0.0,>=2.5.0->spleeter) (1.6.3)\n",
            "Requirement already satisfied: gast<=0.4.0,>=0.2.1 in /usr/local/lib/python3.7/dist-packages (from tensorflow<3.0.0,>=2.5.0->spleeter) (0.4.0)\n",
            "Requirement already satisfied: keras<2.10.0,>=2.9.0rc0 in /usr/local/lib/python3.7/dist-packages (from tensorflow<3.0.0,>=2.5.0->spleeter) (2.9.0)\n",
            "Requirement already satisfied: tensorboard<2.10,>=2.9 in /usr/local/lib/python3.7/dist-packages (from tensorflow<3.0.0,>=2.5.0->spleeter) (2.9.1)\n",
            "Requirement already satisfied: termcolor>=1.1.0 in /usr/local/lib/python3.7/dist-packages (from tensorflow<3.0.0,>=2.5.0->spleeter) (2.0.1)\n",
            "Requirement already satisfied: wheel<1.0,>=0.23.0 in /usr/local/lib/python3.7/dist-packages (from astunparse>=1.6.0->tensorflow<3.0.0,>=2.5.0->spleeter) (0.37.1)\n",
            "Requirement already satisfied: cached-property in /usr/local/lib/python3.7/dist-packages (from h5py>=2.9.0->tensorflow<3.0.0,>=2.5.0->spleeter) (1.5.2)\n",
            "Requirement already satisfied: tensorboard-data-server<0.7.0,>=0.6.0 in /usr/local/lib/python3.7/dist-packages (from tensorboard<2.10,>=2.9->tensorflow<3.0.0,>=2.5.0->spleeter) (0.6.1)\n",
            "Requirement already satisfied: markdown>=2.6.8 in /usr/local/lib/python3.7/dist-packages (from tensorboard<2.10,>=2.9->tensorflow<3.0.0,>=2.5.0->spleeter) (3.3.4)\n",
            "Requirement already satisfied: tensorboard-plugin-wit>=1.6.0 in /usr/local/lib/python3.7/dist-packages (from tensorboard<2.10,>=2.9->tensorflow<3.0.0,>=2.5.0->spleeter) (1.8.1)\n",
            "Requirement already satisfied: google-auth<3,>=1.6.3 in /usr/local/lib/python3.7/dist-packages (from tensorboard<2.10,>=2.9->tensorflow<3.0.0,>=2.5.0->spleeter) (1.35.0)\n",
            "Requirement already satisfied: google-auth-oauthlib<0.5,>=0.4.1 in /usr/local/lib/python3.7/dist-packages (from tensorboard<2.10,>=2.9->tensorflow<3.0.0,>=2.5.0->spleeter) (0.4.6)\n",
            "Requirement already satisfied: werkzeug>=1.0.1 in /usr/local/lib/python3.7/dist-packages (from tensorboard<2.10,>=2.9->tensorflow<3.0.0,>=2.5.0->spleeter) (1.0.1)\n",
            "Requirement already satisfied: rsa<5,>=3.1.4 in /usr/local/lib/python3.7/dist-packages (from google-auth<3,>=1.6.3->tensorboard<2.10,>=2.9->tensorflow<3.0.0,>=2.5.0->spleeter) (4.9)\n",
            "Requirement already satisfied: pyasn1-modules>=0.2.1 in /usr/local/lib/python3.7/dist-packages (from google-auth<3,>=1.6.3->tensorboard<2.10,>=2.9->tensorflow<3.0.0,>=2.5.0->spleeter) (0.2.8)\n",
            "Requirement already satisfied: cachetools<5.0,>=2.0.0 in /usr/local/lib/python3.7/dist-packages (from google-auth<3,>=1.6.3->tensorboard<2.10,>=2.9->tensorflow<3.0.0,>=2.5.0->spleeter) (4.2.4)\n",
            "Requirement already satisfied: requests-oauthlib>=0.7.0 in /usr/local/lib/python3.7/dist-packages (from google-auth-oauthlib<0.5,>=0.4.1->tensorboard<2.10,>=2.9->tensorflow<3.0.0,>=2.5.0->spleeter) (1.3.1)\n",
            "Requirement already satisfied: pyasn1<0.5.0,>=0.4.6 in /usr/local/lib/python3.7/dist-packages (from pyasn1-modules>=0.2.1->google-auth<3,>=1.6.3->tensorboard<2.10,>=2.9->tensorflow<3.0.0,>=2.5.0->spleeter) (0.4.8)\n",
            "Requirement already satisfied: oauthlib>=3.0.0 in /usr/local/lib/python3.7/dist-packages (from requests-oauthlib>=0.7.0->google-auth-oauthlib<0.5,>=0.4.1->tensorboard<2.10,>=2.9->tensorflow<3.0.0,>=2.5.0->spleeter) (3.2.2)\n",
            "Requirement already satisfied: click<7.2.0,>=7.1.1 in /usr/local/lib/python3.7/dist-packages (from typer<0.4.0,>=0.3.2->spleeter) (7.1.2)\n",
            "Looking in indexes: https://pypi.org/simple, https://us-python.pkg.dev/colab-wheels/public/simple/, https://download.pytorch.org/whl/cu113\n",
            "Collecting torch\n",
            "  Downloading https://download.pytorch.org/whl/cu113/torch-1.12.1%2Bcu113-cp37-cp37m-linux_x86_64.whl (1837.8 MB)\n",
            "\u001b[K     |██████████████▌                 | 834.1 MB 1.3 MB/s eta 0:12:56tcmalloc: large alloc 1147494400 bytes == 0x64f02000 @  0x7f4c9200a615 0x58ead6 0x4f355e 0x4d222f 0x51041f 0x5b4ee6 0x58ff2e 0x510325 0x5b4ee6 0x58ff2e 0x50d482 0x4d00fb 0x50cb8d 0x4d00fb 0x50cb8d 0x4d00fb 0x50cb8d 0x4bac0a 0x538a76 0x590ae5 0x510280 0x5b4ee6 0x58ff2e 0x50d482 0x5b4ee6 0x58ff2e 0x50c4fc 0x58fd37 0x50ca37 0x5b4ee6 0x58ff2e\n",
            "\u001b[K     |██████████████████▍             | 1055.7 MB 1.3 MB/s eta 0:10:11tcmalloc: large alloc 1434370048 bytes == 0x272a000 @  0x7f4c9200a615 0x58ead6 0x4f355e 0x4d222f 0x51041f 0x5b4ee6 0x58ff2e 0x510325 0x5b4ee6 0x58ff2e 0x50d482 0x4d00fb 0x50cb8d 0x4d00fb 0x50cb8d 0x4d00fb 0x50cb8d 0x4bac0a 0x538a76 0x590ae5 0x510280 0x5b4ee6 0x58ff2e 0x50d482 0x5b4ee6 0x58ff2e 0x50c4fc 0x58fd37 0x50ca37 0x5b4ee6 0x58ff2e\n",
            "\u001b[K     |███████████████████████▎        | 1336.2 MB 1.2 MB/s eta 0:06:52tcmalloc: large alloc 1792966656 bytes == 0x57f16000 @  0x7f4c9200a615 0x58ead6 0x4f355e 0x4d222f 0x51041f 0x5b4ee6 0x58ff2e 0x510325 0x5b4ee6 0x58ff2e 0x50d482 0x4d00fb 0x50cb8d 0x4d00fb 0x50cb8d 0x4d00fb 0x50cb8d 0x4bac0a 0x538a76 0x590ae5 0x510280 0x5b4ee6 0x58ff2e 0x50d482 0x5b4ee6 0x58ff2e 0x50c4fc 0x58fd37 0x50ca37 0x5b4ee6 0x58ff2e\n",
            "\u001b[K     |█████████████████████████████▌  | 1691.1 MB 1.1 MB/s eta 0:02:09tcmalloc: large alloc 2241208320 bytes == 0xc2cfe000 @  0x7f4c9200a615 0x58ead6 0x4f355e 0x4d222f 0x51041f 0x5b4ee6 0x58ff2e 0x510325 0x5b4ee6 0x58ff2e 0x50d482 0x4d00fb 0x50cb8d 0x4d00fb 0x50cb8d 0x4d00fb 0x50cb8d 0x4bac0a 0x538a76 0x590ae5 0x510280 0x5b4ee6 0x58ff2e 0x50d482 0x5b4ee6 0x58ff2e 0x50c4fc 0x58fd37 0x50ca37 0x5b4ee6 0x58ff2e\n",
            "\u001b[K     |████████████████████████████████| 1837.8 MB 1.3 MB/s eta 0:00:01tcmalloc: large alloc 1837801472 bytes == 0x272a000 @  0x7f4c920091e7 0x4b2590 0x4b261c 0x58ead6 0x4f355e 0x4d222f 0x51041f 0x5b4ee6 0x58ff2e 0x50ca37 0x5b4ee6 0x58ff2e 0x50ca37 0x5b4ee6 0x58ff2e 0x50ca37 0x5b4ee6 0x58ff2e 0x50ca37 0x5b4ee6 0x58ff2e 0x50ca37 0x58fd37 0x50ca37 0x5b4ee6 0x58ff2e 0x50d482 0x5b4ee6 0x58ff2e 0x50d482 0x5b4ee6\n",
            "tcmalloc: large alloc 2297257984 bytes == 0x148660000 @  0x7f4c9200a615 0x58ead6 0x4f355e 0x4d222f 0x51041f 0x5b4ee6 0x58ff2e 0x50ca37 0x5b4ee6 0x58ff2e 0x50ca37 0x5b4ee6 0x58ff2e 0x50ca37 0x5b4ee6 0x58ff2e 0x50ca37 0x5b4ee6 0x58ff2e 0x50ca37 0x58fd37 0x50ca37 0x5b4ee6 0x58ff2e 0x50d482 0x5b4ee6 0x58ff2e 0x50d482 0x5b4ee6 0x4bad99 0x4d3249\n",
            "\u001b[K     |████████████████████████████████| 1837.8 MB 165 bytes/s \n",
            "\u001b[?25hCollecting torchvision\n",
            "  Downloading https://download.pytorch.org/whl/cu113/torchvision-0.13.1%2Bcu113-cp37-cp37m-linux_x86_64.whl (23.4 MB)\n",
            "\u001b[K     |████████████████████████████████| 23.4 MB 1.5 MB/s \n",
            "\u001b[?25hCollecting torchaudio\n",
            "  Downloading https://download.pytorch.org/whl/cu113/torchaudio-0.12.1%2Bcu113-cp37-cp37m-linux_x86_64.whl (3.8 MB)\n",
            "\u001b[K     |████████████████████████████████| 3.8 MB 45.1 MB/s \n",
            "\u001b[?25hRequirement already satisfied: typing-extensions in /usr/local/lib/python3.7/dist-packages (from torch) (4.1.1)\n",
            "Requirement already satisfied: numpy in /usr/local/lib/python3.7/dist-packages (from torchvision) (1.21.6)\n",
            "Requirement already satisfied: pillow!=8.3.*,>=5.3.0 in /usr/local/lib/python3.7/dist-packages (from torchvision) (7.1.2)\n",
            "Requirement already satisfied: requests in /usr/local/lib/python3.7/dist-packages (from torchvision) (2.23.0)\n",
            "Requirement already satisfied: idna<3,>=2.5 in /usr/local/lib/python3.7/dist-packages (from requests->torchvision) (2.10)\n",
            "Requirement already satisfied: chardet<4,>=3.0.2 in /usr/local/lib/python3.7/dist-packages (from requests->torchvision) (3.0.4)\n",
            "Requirement already satisfied: certifi>=2017.4.17 in /usr/local/lib/python3.7/dist-packages (from requests->torchvision) (2022.9.24)\n",
            "Requirement already satisfied: urllib3!=1.25.0,!=1.25.1,<1.26,>=1.21.1 in /usr/local/lib/python3.7/dist-packages (from requests->torchvision) (1.24.3)\n",
            "Installing collected packages: torch, torchvision, torchaudio\n",
            "Successfully installed torch-1.12.1+cu113 torchaudio-0.12.1+cu113 torchvision-0.13.1+cu113\n"
          ]
        }
      ]
    },
    {
      "cell_type": "markdown",
      "source": [
        "## **Upload Your File**\n",
        "\n",
        "Open the file folder on the left-hand corner of your Colab notebook. Drag the .mp3 you would like to transcribe into the \"Files\" section. \n",
        "\n",
        "This will upload the audio to your your Google Drive. Here's what it looks like once you've uploaded a file:\n",
        "\n",
        "![Colab Files 23.png](data:image/png;base64,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)\n",
        "\n",
        "\n"
      ],
      "metadata": {
        "id": "FHH08HaDFQEs"
      }
    },
    {
      "cell_type": "markdown",
      "source": [
        "## Start Transcribe\n",
        "\n",
        "To transcribe an .mp3, simply copy and paste the title of your .mp3 file into the command line below and run the cell.\n",
        "\n",
        "Don't forget the quotation marks! "
      ],
      "metadata": {
        "id": "D7j3VhEsGc4G"
      }
    },
    {
      "cell_type": "code",
      "source": [
        "!python /content/whisper-auto-transcribe/cli.py \"/content/drive/Shareddrives/TestOnlyFuckUv8/z!trash/Audio Unit 9-20221025/A1_at_the_library.mp3\"  --output \"/content/drive/Shareddrives/TestOnlyFuckUv8/z!trash/Audio Unit 9-20221025/A1_at_the_library.srt\" -lang en --model large\n",
        "!python /content/whisper-auto-transcribe/cli.py \"\"  --output \"\" -lang en --model large\n",
        "!python /content/whisper-auto-transcribe/cli.py \"\"  --output \"\" -lang en --model large"
      ],
      "metadata": {
        "colab": {
          "base_uri": "https://localhost:8080/"
        },
        "id": "-1pP466t8kpv",
        "outputId": "49cf7903-d5ce-4dcc-e407-084382324137"
      },
      "execution_count": null,
      "outputs": [
        {
          "output_type": "stream",
          "name": "stdout",
          "text": [
            "tcmalloc: large alloc 1528012800 bytes == 0x5482000 @  0x7f2ed62b91e7 0x4b2590 0x5ad01c 0x5dcfef 0x58f92b 0x590c33 0x5e48ac 0x4d20fa 0x51041f 0x58fd37 0x50c4fc 0x5b4ee6 0x58ff2e 0x50d482 0x58fd37 0x50c4fc 0x5b4ee6 0x6005a3 0x607796 0x60785c 0x60a436 0x64db82 0x64dd2e 0x7f2ed5eb6c87 0x5b636a\n",
            "Detected language: English\n",
            "[00:00.000 --> 00:08.380]  Echo, echo, hearing them tonight in Antigua, me on the roof by myself, rooms where I made\n",
            "[00:08.380 --> 00:14.500]  love to Debbie in here, my voice has been going all day, went to a meeting with Mr.\n",
            "[00:14.500 --> 00:18.980]  Chepay, I saw a New Yorker article on the wall, the writer's name has passed through\n",
            "[00:18.980 --> 00:25.100]  my head a couple times, but he talked about how his father was a 1950s guy running around\n",
            "[00:25.100 --> 00:30.960]  the United States of America, his dad was from Guatemala and he says they are more polite\n",
            "[00:30.960 --> 00:39.400]  here, more adept at servitude, more ready to come to my home and say things like Don\n",
            "[00:39.400 --> 00:45.720]  and please, he says how his dad was polite to a football player even though he thought\n",
            "[00:45.720 --> 00:57.680]  football was uncool and rotten American, the high school played for me in my button and\n",
            "[00:57.680 --> 01:08.080]  uniform wearing an icy cold metal, bleachers and band to sit there, to be there cheering\n",
            "[01:08.080 --> 01:12.980]  when you were supposed to, holding girl's hands and hot chocolate, my flute turning\n",
            "[01:12.980 --> 01:17.840]  to ice in my lap, I saw Mark do it and Matt and then Jeff, everybody for that matter and\n",
            "[01:17.840 --> 01:22.600]  now here I am on the roof where I figured out the world with Mark a million miles away\n",
            "[01:22.600 --> 01:28.280]  from home in the football stadium, mercury lights, cold light, even in the first couple\n",
            "[01:28.280 --> 01:34.520]  months with summer before we dashed down the field in our spats, rubber pieces and black\n",
            "[01:34.520 --> 01:41.440]  elastic straps, elastic that magic word that meant so little in the United States and here\n",
            "[02:07.060 --> 02:12.260]  piece of paper, I lost my voice from smoking with my fucking cold, I'm killing myself slowly\n",
            "[02:12.260 --> 02:17.280]  and talking to them in Spanish, voice a cigarette cancer mess like I have a voice box already\n",
            "[02:17.280 --> 02:22.360]  but I don't and stick boy can make echoes naming all the things that happen and maybe\n",
            "[02:22.360 --> 02:30.000]  they will listen and I will sound, I will be real, a person who is writing and not afraid.\n",
            "[02:30.000 --> 02:39.040]  Next page, today being February 4, 300 quetzales and believe me when I'm done and exhausted\n",
            "[02:39.040 --> 02:42.480]  and kind of happy, let's tell the story of how I decided to stay in Tegua for a Super\n",
            "[02:42.480 --> 02:48.120]  Bowl Sunday, how I sat for three hours plinking computer keys with Microsoft Publisher every\n",
            "[02:48.120 --> 02:55.520]  time I flipped a picture, it went all grayscale and I looked for Amy to say something or even\n",
            "[02:55.520 --> 03:00.040]  Erin anything to be back in that black and white picture that Andy took where everything\n",
            "[03:00.040 --> 03:07.200]  seemed possible, not today where I got a catalog from Columbia saying how 600 people want in\n",
            "[03:07.200 --> 03:11.880]  the program and only 70 get in or something, just being here today was too much because\n",
            "[03:11.880 --> 03:16.840]  I came back in for the halftime show, some pathetic pages done after all those hours,\n",
            "[03:16.840 --> 03:22.120]  I started drinking with Caroline, Eva, Courtney, all the new girls I met this year in one place\n",
            "[03:22.120 --> 03:26.520]  for some reason, you too did the halftime show on a giant heart shaped stage in the\n",
            "[03:26.520 --> 03:31.440]  middle of the field, they played beautiful day, that happy song and then where the streets\n",
            "[03:31.440 --> 03:35.600]  have no name, well a giant list of names of people who died in September 11 floated up\n",
            "[03:35.600 --> 03:41.200]  to the sky, black paper, white names, up they went and I shivered after the game, Eva and\n",
            "[03:41.200 --> 03:48.560]  me won 10 to 0, then 10 to 2 and then lost two more times, it was a nice place to be,\n",
            "[03:48.560 --> 03:54.160]  they left, Billy, me and Courtney stayed and the next thing you know the bar closed and\n",
            "[03:54.160 --> 04:00.420]  we went down to Riley's house, I shivered on his couch, no blankets, nothing, just drunk\n",
            "[04:00.420 --> 04:04.520]  sleep while I giggled to myself about the Big Lebowski, I woke up aching and wanting\n",
            "[04:04.520 --> 04:10.240]  to puke, hungover, stayed all day the way back here hurting and wondering what it was\n",
            "[04:10.240 --> 04:16.640]  I did when one more than that had Courtney, last night the two of us just talking about\n",
            "[04:16.640 --> 04:21.760]  how she almost left and how those girls don't like her, a couple times while I was wrecking\n",
            "[04:21.760 --> 04:26.280]  death in Uyghur destruction she played with my hair, so nice to have a girl pay attention\n",
            "[04:26.280 --> 04:31.160]  to me again, nice after all this, I rode the bus to Halapa today while Radiohead cried\n",
            "[04:31.160 --> 04:36.120]  in my ears, those washed out magic love songs, the air was tinted dark by messes of clouds\n",
            "[04:36.120 --> 04:40.880]  all the way up there and the fence posts and the high voltage wires swept by in a perfect\n",
            "[04:40.880 --> 04:46.360]  time, great dark green washes of my place and dust clouds I stayed holed up in my aching\n",
            "[04:46.360 --> 04:51.400]  head with music and I imagine Stickboy flapping his arms again screaming all the right words\n",
            "[04:51.400 --> 04:55.760]  just for them at the end of all this, I just wanted to play to sing and then whisper story\n",
            "[04:55.760 --> 05:05.040]  and then scream about losing and to be a rock star and play dreaming that's me on the lawnmower\n",
            "[05:05.040 --> 05:11.400]  in those early years the coincidences and places I end up finding over and over I want\n",
            "[05:11.400 --> 05:17.400]  to write until they make me stop, I want to play and never worry again, today new page\n",
            "[05:17.400 --> 05:22.200]  Tuesdays gone me tired only 100 pages consumed today and those were Justine which I'd already\n",
            "[05:22.200 --> 05:27.280]  read dammit, but so many little things man how Claire showed up in the morning there\n",
            "[05:27.280 --> 05:37.480]  was just Joaquina and Joaquina told how the girls on the street whistled at Jeff and we\n",
            "[05:37.480 --> 05:41.560]  were giggling like brothers and sisters and I felt nice just being single and everything\n",
            "[05:41.560 --> 05:47.600]  and a woman came out with her four year old kid said he had a hernia pulled down his pants\n",
            "[05:47.600 --> 05:53.280]  right there I saw he'd hurt all these people this old guy who talks to me when I waited\n",
            "[05:53.280 --> 05:59.280]  for trucks he has hernias they all have hernias hurting in their stomach hips body starved\n",
            "[05:59.280 --> 06:04.600]  and underfed and I can't do anything except nod look at their cut bodies and nod because\n",
            "[06:04.600 --> 06:09.440]  except my mixed up Spanish and their bodies and the doctors who think in English I went\n",
            "[06:09.440 --> 06:15.840]  to Claire's house and got cake pans I came back and there were crowds of my girls there\n",
            "[06:15.840 --> 06:24.160]  I kept saying oh oh oh I will operate on your heads because you are crazy I kept bumping\n",
            "[06:24.160 --> 06:28.640]  my head and they told me I should take the top of my head and I didn't but everybody\n",
            "[06:28.640 --> 06:32.540]  was laughing happy with funny little me and after that I sat with the puppy squat bloated\n",
            "[06:32.540 --> 06:37.400]  stomach screaming kids I imagine me buying one to show off to all the girls my little\n",
            "[06:37.400 --> 06:43.920]  dog to have but I didn't Claire told me I need to keep one because it is little small\n",
            "[06:43.920 --> 06:49.120]  cute and I felt nice too I wanted to buy that dog too just so it could be Chipito a little\n",
            "[06:49.120 --> 06:54.640]  stick boy dog like me but I didn't then tonight while the sky turned pink and orange over\n",
            "[06:54.640 --> 07:00.160]  the mountain lazy gigantic strips of clouds Joaquina kept telling me how Jeff wants to\n",
            "[07:28.120 --> 07:33.140]  a bat flew into his house a little two flaps of skin and muscle between them a rat head\n",
            "[07:33.140 --> 07:38.400]  with sonar brains but it flipped around scared to death a shadow a negative bird zipping\n",
            "[07:38.400 --> 07:42.760]  in the nighttime I ran out of his house because last night I dreamed a dog was in my room\n",
            "[07:42.760 --> 07:48.040]  lit up perfect with lights of my dreams always have lit up enough to see the dream place\n",
            "[07:48.040 --> 07:52.320]  on top of the place where I'm sleeping the dog watched me then disappeared under the\n",
            "[07:52.320 --> 07:58.520]  bed he went way away and was gone and I woke up making shushing noises in the dark I woke\n",
            "[07:58.520 --> 08:02.540]  up Donnie Roberta they told me the story and the bat flapped around the room Jeff and me\n",
            "[08:02.540 --> 08:26.440]  chased him trying to get the dark shape out\n"
          ]
        }
      ]
    },
    {
      "cell_type": "markdown",
      "source": [
        "## Transcribe & Translate (Optional)\n",
        "\n",
        "To translate an .mp3, simply copy and paste the title of your .mp3 file into the command line below and run the cell. \n",
        "\n",
        "You can change the language as needed in the command line, and English is the default output. Don't forget the quotation marks! \n",
        "\n",
        "Note: I created and successfully ran every step of this notebook with my Colab Pro subscription. \n",
        "\n",
        "On the basic Google Colab plan, all the steps worked except \"Step Five.\" This final step kept getting a \"Runtime discontinued\" error on the basic plan."
      ],
      "metadata": {
        "id": "TbeClltmKIEZ"
      }
    },
    {
      "cell_type": "code",
      "source": [
        "!whisper \"/content/drive/Shareddrives/TestOnlyFuckUv8/z!trash/Audio Unit 9-20221025/A1_at_the_library.mp3\" --language english --model large\n",
        "!whisper \"Ars by José Asunción Silva.mp3\" --language Spanish --task translate"
      ],
      "metadata": {
        "colab": {
          "base_uri": "https://localhost:8080/"
        },
        "id": "DnZqS_5D2lhp",
        "outputId": "e144947e-931d-440e-da8a-802bed27c831"
      },
      "execution_count": null,
      "outputs": [
        {
          "output_type": "stream",
          "name": "stdout",
          "text": [
            "[00:00.000 --> 00:07.000]  This is a recording of LibriVox. All LibriVox recordings are from public domain.\n",
            "[00:07.000 --> 00:13.000]  For more information or to be a volunteer, please visit LibriVox.org.\n",
            "[00:13.000 --> 00:17.000]  Recorded by Alejandro González Calderón.\n",
            "[00:17.000 --> 00:22.000]  From José Ancel Mozilva, Colombian.\n",
            "[00:22.000 --> 00:26.000]  The verse is a holy kiss.\n",
            "[00:26.000 --> 00:30.000]  It says in it a pure thought,\n",
            "[00:30.000 --> 00:33.000]  in which the images, like gold bubbles,\n",
            "[00:33.000 --> 00:37.000]  of a dark wine.\n",
            "[00:37.000 --> 00:39.000]  There you will see the flowers,\n",
            "[00:39.000 --> 00:41.000]  that in the continuous struggle,\n",
            "[00:41.000 --> 00:43.000]  flow from the cold world,\n",
            "[00:43.000 --> 00:45.000]  delicious memories of times that do not return\n",
            "[00:45.000 --> 00:48.000]  and soaked in drops of rice.\n",
            "[00:48.000 --> 00:51.000]  For the existence of misery to be embalmed\n",
            "[00:51.000 --> 00:53.000]  with the note essence,\n",
            "[00:53.000 --> 00:56.000]  burning in the fire of the internalized soul,\n",
            "[00:56.000 --> 00:58.000]  of that supreme balsam,\n",
            "[00:58.000 --> 01:01.000]  a single drop is enough.\n",
            "[01:01.000 --> 01:11.000]  End of the poem.\n"
          ]
        }
      ]
    },
    {
      "cell_type": "markdown",
      "source": [],
      "metadata": {
        "id": "DUmnN3tyjksD"
      }
    },
    {
      "cell_type": "markdown",
      "metadata": {
        "id": "rlX9RzFJRoW-"
      },
      "source": [
        "# <font size=6><center>✦ *Compress/Decompress Files* ✦</center></font>\n",
        "---"
      ]
    },
    {
      "cell_type": "markdown",
      "metadata": {
        "id": "eWs-zl2gNvwW"
      },
      "source": [
        "## <font size=6>Create/Extract Archive</font>"
      ]
    },
    {
      "cell_type": "code",
      "execution_count": null,
      "metadata": {
        "cellView": "form",
        "id": "XO8dzdyyH5pT"
      },
      "outputs": [],
      "source": [
        "# ============================= FORM ============================= #\n",
        "# @markdown <font size=5>← Create Archive</font>\n",
        "MODE = \"ZIP\" #@param [\"ZIP\", \"TAR\", \"7Z\"]\n",
        "FILENAME = \"\"  # @param {type:\"string\"}\n",
        "PATH_TO_FILE = \"\"  # @param {type:\"string\"}\n",
        "ARCHIVE_PASSWORD = \"\" #@param {type:\"string\"}\n",
        "\n",
        "# option supports b k m g (bytes, kilobytes, megabytes, gigabytes)\n",
        "SPLIT = \"no\" #@param [\"1g\", \"2g\", \"3g\", \"4g\", \"5g\", \"no\"]\n",
        "\n",
        "compress = 4#@param  {type:\"slider\", min:0, max:9, step:0}\n",
        "#@markdown > Use the character `|` to separate paths. (Example `path/to /1 | path/to/2`)\n",
        "# ================================================================ #\n",
        "\n",
        "from pathlib import PurePosixPath\n",
        "\n",
        "pathList = PATH_TO_FILE.split('|')\n",
        "if MODE == \"ZIP\":\n",
        "    if not FILENAME:\n",
        "      FILENAME = \"/content/NEW_FILE.ZIP\"\n",
        "    if ARCHIVE_PASSWORD:\n",
        "      passADD = f'--password \"{ARCHIVE_PASSWORD}\"'\n",
        "    else:\n",
        "      passADD = ''\n",
        "    splitC = f\"-s {SPLIT}\" if not 'no' in SPLIT else \"\" \n",
        "    for part in pathList:\n",
        "      pathdic = PurePosixPath(part.strip())\n",
        "      parent = pathdic.parent\n",
        "      partName = pathdic.parts[-1]\n",
        "      cmd = f'cd \"{parent}\" && zip {passADD} -{compress} {splitC} -v -r -u \"{FILENAME}\" \"{partName}\"'\n",
        "      !$cmd\n",
        "elif MODE == \"TAR\":\n",
        "    if not FILENAME:\n",
        "      FILENAME = \"/content/NEW_FILE\"\n",
        "    cmd = f'GZIP=-{compress} tar -zcvf \"{FILENAME}.tar.gz\" {PATH_TO_FILE}'\n",
        "    !$cmd\n",
        "else:\n",
        "    if not FILENAME:\n",
        "        FILENAME = \"/content/NEW_FILE\"\n",
        "    for part in pathList:\n",
        "      pathdic = PurePosixPath(part.strip())\n",
        "      parent = pathdic.parent\n",
        "      partName = pathdic.parts[-1]\n",
        "      cmd = f'cd \"{parent}\" && 7z a -mx={compress} \"{FILENAME}.7z\" \"{partName}\"'\n",
        "      !$cmd\n"
      ]
    },
    {
      "cell_type": "code",
      "execution_count": null,
      "metadata": {
        "cellView": "form",
        "id": "k98WImeXH5pK"
      },
      "outputs": [],
      "source": [
        "# ============================= FORM ============================= #\n",
        "# @markdown <font size=5>← Extract Archive</font>\n",
        "MODE = \"7Z\"  # @param [\"UNZIP\", \"UNTAR\", \"UNRAR\", \"7Z\"]\n",
        "PATH_TO_FILE = \"\"  # @param {type:\"string\"}\n",
        "extractPath = \"\"  # @param {type:\"string\"}\n",
        "ARCHIVE_PASSWORD = \"\" #@param {type:\"string\"}\n",
        "# ================================================================ #\n",
        "\n",
        "import os, urllib.request\n",
        "HOME = os.path.expanduser(\"~\")\n",
        "\n",
        "if not os.path.exists(f\"{HOME}/.ipython/mixlab.py\"):\n",
        "    hCode = \"https://raw.githubusercontent.com/shirooo39/\" \\\n",
        "                \"MiXLab/master/resources/mixlab.py\"\n",
        "    urllib.request.urlretrieve(hCode, f\"{HOME}/.ipython/mixlab.py\")\n",
        "\n",
        "from mixlab import (\n",
        "    runSh,\n",
        "    checkAvailable,\n",
        ")\n",
        "\n",
        "def extractFiles():\n",
        "    global extractPath\n",
        "    if ARCHIVE_PASSWORD:\n",
        "      passADD = f'-P {ARCHIVE_PASSWORD}'\n",
        "    else:\n",
        "      passADD = ''\n",
        "    if not extractPath:\n",
        "      extractPath = \"/content/extract\"\n",
        "    os.makedirs(extractPath, exist_ok=True)\n",
        "    if MODE == \"UNZIP\":\n",
        "        runSh('unzip '+passADD+f' \"{PATH_TO_FILE}\" -d \"{extractPath}\"', output=True)\n",
        "    elif MODE == \"UNRAR\":\n",
        "        runSh(f'unrar x \"{PATH_TO_FILE}\" \"{extractPath}\" '+passADD+' -o+', output=True)\n",
        "    elif MODE == \"UNTAR\":\n",
        "        runSh(f'tar -C \"{extractPath}\" -xvf \"{PATH_TO_FILE}\"', output=True)\n",
        "    else:\n",
        "        runSh(f'7z x \"{PATH_TO_FILE}\" -o{extractPath} '+passADD, output=True)\n",
        "\n",
        "extractFiles()"
      ]
    },
    {
      "cell_type": "code",
      "execution_count": null,
      "metadata": {
        "cellView": "form",
        "id": "uoSecUJvx4za"
      },
      "outputs": [],
      "source": [
        "# ============================= FORM ============================= #\n",
        "# @markdown <font size=5>← Install the Requirements</font>\n",
        "# ================================================================ #\n",
        "\n",
        "import IPython\n",
        "from IPython.display import clear_output\n",
        "\n",
        "!sudo apt-get install aria2 cabextract wimtools chntpw genisoimage\n",
        "!git clone https://github.com/uup-dump/converter \"/content/tools/uup-dump/converter\"\n",
        "\n",
        "clear_output()"
      ]
    },
    {
      "cell_type": "code",
      "execution_count": null,
      "metadata": {
        "cellView": "form",
        "id": "6NqUFFnBx9C5"
      },
      "outputs": [],
      "source": [
        "# ============================= FORM ============================= #\n",
        "# @markdown <font size=5>← [Start] UUP Dump</font>\n",
        "script_location = \"\" #@param {type:\"string\"}\n",
        "# @markdown > Only type in the script's path and exclude the script's name.<br><br>Type in: /content/path/to/script<br>Exclude: uup_download_linux.sh\n",
        "# ================================================================ #\n",
        "\n",
        "if not script_location == \"\":\n",
        "    pass\n",
        "else:\n",
        "    script_location = \"/content\"\n",
        "\n",
        "%cd \"$script_location\"\n",
        "\n",
        "!bash \"uup_download_linux.sh\"\n",
        "\n",
        "%cd \"/content\""
      ]
    },
    {
      "cell_type": "code",
      "execution_count": null,
      "metadata": {
        "id": "KDFWgCYE0ULQ"
      },
      "outputs": [],
      "source": [
        "# ============================= FORM ============================= #\n",
        "# Custom commands goes here\n",
        "# ================================================================ #\n",
        "\n"
      ]
    },
    {
      "cell_type": "markdown",
      "metadata": {
        "id": "6uDnLXX40fv6"
      },
      "source": [
        "TO DO:\n",
        "\n",
        "- Add files and paths checker ot make sure they are exist"
      ]
    },
    {
      "cell_type": "code",
      "source": [
        "## **<font color=\"red\">Important note</font> - After doing all the steps, please note that depending on your file size of the Zip and Rar files, it may take a while to show up in your Google Drive. Please be patient. Eventually, it will show up in your drive.**\n",
        "###**<font color=\"red\">For larger files</font> - it may take some time to show up in your Google Drive. Do not rerun the code if it doesn't show up fast. Just keep refreshing your Google Drive page to see if it shows up**\n",
        "###**<font color=\"red\">For small files</font> - it will show up quicker in your Google Drive. Just wait until it shows up. Just keep refreshing your page to see if it shows up**\n",
        "###**<font color=\"red\">Update</font> - added some features**\n",
        "* Extract/create password protected rar files\n",
        "* Extract/create tar/tar.gz/tar/bz files\n"
      ],
      "metadata": {
        "id": "tdHkmd6olkGV"
      },
      "execution_count": null,
      "outputs": []
    },
    {
      "cell_type": "markdown",
      "metadata": {
        "id": "hi4f8Ba-diVf"
      },
      "source": [
        "##__Unzip/Unrar/Untar Files__"
      ]
    },
    {
      "cell_type": "markdown",
      "metadata": {
        "id": "bAls_UEYfwIX"
      },
      "source": [
        "###__Unzip Files__\n",
        "\n"
      ]
    },
    {
      "cell_type": "markdown",
      "metadata": {
        "id": "o_zFmom9fWNW"
      },
      "source": [
        "*   First path in below cell - Your Google Drive file location which you want to Unzip\n",
        "*   Second path in below cell - Path where you want to extract the zip file in Google Drive"
      ]
    },
    {
      "cell_type": "code",
      "metadata": {
        "id": "O1_kc7HBeslm",
        "cellView": "both"
      },
      "source": [
        "!unzip \"/content/drive/path/input_file_name.zip\" -d \"/content/drive/path/output_folder/\""
      ],
      "execution_count": null,
      "outputs": []
    },
    {
      "cell_type": "markdown",
      "metadata": {
        "id": "IoAshgcf45gs"
      },
      "source": [
        "###__Unrar Files</center>__\n",
        "\n",
        "\n",
        "\n"
      ]
    },
    {
      "cell_type": "markdown",
      "metadata": {
        "id": "Z1Ql6FiDdBYW"
      },
      "source": [
        "*   First path in below cell - Your Google Drive file location which you want to Unrar\n",
        "*   Second path in below cell - Path where you want to extract the rar file in Google Drive\n",
        "\n",
        "*If you want to extract a password protected rar file, then add \"-Y\" flag or Use this command instead of the command in the cell\n",
        "(replace the command with the command in the cell)*\n",
        "\n",
        "* ```\n",
        "!unrar x -Y \"/content/drive/path/input_file_name.rar\" \"/content/drive/path/output_folder/\"\n",
        "```\n",
        "\n",
        "\n",
        "\n"
      ]
    },
    {
      "cell_type": "code",
      "metadata": {
        "id": "5ScZvnCdzKm3",
        "cellView": "both"
      },
      "source": [
        "!unrar x \"/content/drive/path/input_file_name.rar\" \"/content/drive/path/output_folder/\""
      ],
      "execution_count": null,
      "outputs": []
    },
    {
      "cell_type": "markdown",
      "metadata": {
        "id": "o1PFiGyMAMvg"
      },
      "source": [
        "###__Untar Files__\n",
        "\n"
      ]
    },
    {
      "cell_type": "markdown",
      "metadata": {
        "id": "sBWJzqQtAMvg"
      },
      "source": [
        "*   First path in below cell - Your Google Drive file location which you want to Untar\n",
        "*   Second path in below cell - Path where you want to extract the tar file in Google Drive\n",
        "\n",
        " *__Flags__*\n",
        "\n",
        " * -x : Extract a tar ball.\n",
        " * -v : Verbose output or show progress while extracting files.\n",
        " * -f : Specify an archive or a tarball filename.\n",
        " * -C : Specify a different directory to extract\n",
        " * -z : Decompress and extract the contents of the compressed archive created by gzip program (tar.gz extension).\n",
        " * -j : Decompress and extract the contents of the compressed archive created by bzip2 program (tar.bz2 extension)."
      ]
    },
    {
      "cell_type": "code",
      "metadata": {
        "cellView": "both",
        "id": "EKjIowyWAMvh"
      },
      "source": [
        "!tar -xvf \"/content/drive/path/input_file_name.tar\" -C \"/content/drive/path/output_folder/\"     #[run this cell to extract tar files]"
      ],
      "execution_count": null,
      "outputs": []
    },
    {
      "cell_type": "code",
      "metadata": {
        "id": "YfSkw7IFH2pl"
      },
      "source": [
        "!tar -xzvf \"/content/drive/path/input_file_name.tar.gz\" -C \"/content/drive/path/output_folder/\"     #[run this cell to extract tar.gz files]"
      ],
      "execution_count": null,
      "outputs": []
    },
    {
      "cell_type": "code",
      "metadata": {
        "id": "tVaZLH-hH54z"
      },
      "source": [
        "!tar -xjvf \"/content/drive/path/input_file_name.tar.bz2\" -C \"/content/drive/path/output_folder/\"     #[run this cell to extract tar.bz2 files]"
      ],
      "execution_count": null,
      "outputs": []
    },
    {
      "cell_type": "markdown",
      "metadata": {
        "id": "mOnUdLJqVaYA"
      },
      "source": [
        "##__Zip/Rar/Tar Files/Folders__"
      ]
    },
    {
      "cell_type": "markdown",
      "metadata": {
        "id": "VKdYIG49VaYA"
      },
      "source": [
        "###__Zip Files/Folders__\n",
        "\n"
      ]
    },
    {
      "cell_type": "markdown",
      "metadata": {
        "id": "n_x6sSnoVaYB"
      },
      "source": [
        "*   First path in below cell - Your Zip output filename\n",
        "*   Second path in below cell - Google Drive file location of the files which you want to Zip"
      ]
    },
    {
      "cell_type": "code",
      "metadata": {
        "cellView": "both",
        "id": "zZ4DrMhmVaYB"
      },
      "source": [
        "!zip \"/content/drive/path/output_file_name.zip\" \"/content/drive/My Drive/Tutorial/games\""
      ],
      "execution_count": null,
      "outputs": []
    },
    {
      "cell_type": "markdown",
      "metadata": {
        "id": "BjYXYIk0VaYE"
      },
      "source": [
        "###__Rar Files/Folders__\n",
        "\n",
        "\n",
        "\n"
      ]
    },
    {
      "cell_type": "code",
      "metadata": {
        "id": "lNeNaDMSWHFI"
      },
      "source": [
        "# <= Click this cell to rar the folder\n",
        "\n",
        "!apt-get install rar"
      ],
      "execution_count": null,
      "outputs": []
    },
    {
      "cell_type": "markdown",
      "metadata": {
        "id": "G24N0obDVaYE"
      },
      "source": [
        "*   First path in below cell - Your Rar File output Name (do not put .rar at the end. It will take it automatically)\n",
        "*   Second path in below cell - Google Drive file location of the files/folder which you want to Rar\n",
        "\n",
        "*If you want to create a password protected rar file, then add \"-p\" flag or Use this command instead of the command in in the cell.\n",
        "(replace the command with the command in the cell) After running the cell, it will ask you to provide the password*\n",
        "\n",
        "* ```\n",
        "!rar a -p \"/content/drive/path/output_file_name\" \"/content/drive/path/input_file_or_folder\"\n",
        "```"
      ]
    },
    {
      "cell_type": "code",
      "metadata": {
        "cellView": "both",
        "id": "WtbqIDwIVaYF"
      },
      "source": [
        "!rar a \"/content/drive/path/output_file_name\" \"/content/drive/path/input_file_or_folder\""
      ],
      "execution_count": null,
      "outputs": []
    },
    {
      "cell_type": "markdown",
      "metadata": {
        "id": "Dm58cAVSAFbr"
      },
      "source": [
        "###__Tar Files/Folders__\n",
        "\n"
      ]
    },
    {
      "cell_type": "markdown",
      "metadata": {
        "id": "9aBzSi69AFbt"
      },
      "source": [
        "*   First path in below cell - Your Tar output filename\n",
        "*   Second path in below cell - Google Drive file location of the files which you want to Tar\n",
        "\n",
        " *__Flags__*\n",
        "\n",
        " * -c : Create a new archive\n",
        " * -v : Verbose output\n",
        " * -f : Use the given archive file (name.extention)\n",
        " * -z : Filter the archive through gzip\n",
        " * -j : Filter the archive through bzip2"
      ]
    },
    {
      "cell_type": "code",
      "metadata": {
        "cellView": "both",
        "id": "EjAf_hxSAFbt"
      },
      "source": [
        "!tar -cvf \"/content/drive/path/output_file_name.tar\" \"/content/drive/path/input_file_or_folder\"     #[run this cell to create tar files]"
      ],
      "execution_count": null,
      "outputs": []
    },
    {
      "cell_type": "code",
      "metadata": {
        "id": "0n-O8xGADZ2o"
      },
      "source": [
        "!tar -czvf \"/content/drive/path/output_file_name.tar.gz\" \"/content/drive/path/input_file_or_folder\"     #[run this cell to create tar.gz files]"
      ],
      "execution_count": null,
      "outputs": []
    },
    {
      "cell_type": "code",
      "metadata": {
        "id": "qjdZ4cTbD8qx"
      },
      "source": [
        "!tar -cjvf \"/content/drive/path/output_file_name.tar.bz2\" \"/content/drive/path/input_file_or_folder\"      #[run this cell to create tar.bz2 files]"
      ],
      "execution_count": null,
      "outputs": []
    },
    {
      "cell_type": "markdown",
      "metadata": {
        "id": "l8uIsoVrC6to"
      },
      "source": [
        "# <font size=6><center>✦ *aria2* ✦</center></font>\n",
        "---\n"
      ]
    },
    {
      "cell_type": "code",
      "metadata": {
        "id": "Z3fpZQeJ8N80"
      },
      "source": [
        "# ============================= FORM ============================= #\n",
        "# @markdown <font size=5>← [Start] aria2</font>\n",
        "Aria2_rpc = True\n",
        "Ariang_WEBUI = True\n",
        "USE_FREE_TOKEN = True\n",
        "TOKEN = \"\"\n",
        "REGION = \"US\"\n",
        "Tunneling = \"argo_tunnel_(cloudflare)\" #@param [\"argo_tunnel_(cloudflare)\", \"ngrok\"]\n",
        "\n",
        "if Tunneling == \"argo_tunnel_(cloudflare)\":\n",
        "    PORT_FORWARD = \"argotunnel\"\n",
        "else:\n",
        "    PORT_FORWARD = \"ngrok\"\n",
        "\n",
        "# OUTPUT_DIR = \"\" # @param {type:\"string\"}\n",
        "# ================================================================ #\n",
        "\n",
        "import os, pathlib, zipfile, re\n",
        "import urllib.request, requests\n",
        "from IPython.display import HTML, clear_output\n",
        "from urllib.parse import urlparse\n",
        "\n",
        "PORT = 8221\n",
        "HOME = os.path.expanduser(\"~\")\n",
        "\n",
        "if not os.path.exists(f\"{HOME}/.ipython/mixlab.py\"):\n",
        "    hCode = \"https://raw.githubusercontent.com/shirooo39/\" \\\n",
        "            \"MiXLab/master/resources/mixlab.py\"\n",
        "    urllib.request.urlretrieve(hCode, f\"{HOME}/.ipython/mixlab.py\")\n",
        "\n",
        "from mixlab import (\n",
        "    runSh,\n",
        "    loadingAn,\n",
        "    PortForward_wrapper,\n",
        "    CWD,\n",
        "    displayUrl,\n",
        "    findProcess,\n",
        "    findPackageR\n",
        ")\n",
        "\n",
        "loadingAn()\n",
        "\n",
        "# Setting up aria2\n",
        "runSh('apt install -y aria2')\n",
        "pathlib.Path('ariang').mkdir(mode=0o777, exist_ok=True)\n",
        "pathlib.Path('downloads').mkdir(mode=0o777, exist_ok=True)\n",
        "\n",
        "# Defining Github latest release tag\n",
        "def latestTag(link):\n",
        "    import re\n",
        "    from urllib.request import urlopen\n",
        "    htmlF = urlopen(link+\"/releases/latest\").read().decode('UTF-8')\n",
        "    return re.findall(r'.+\\/tag\\/([.0-9A-Za-z]+)\".+/', htmlF)[0]\n",
        "\n",
        "# Downloading the latest version of ariaNg\n",
        "if not os.path.exists(\"ariang/index.html\"):\n",
        "    # BASE_URL = r\"https://github.com/mayswind/AriaNg\"\n",
        "    # LATEST_TAG = latestTag(BASE_URL)\n",
        "    # urlF = f'{BASE_URL}/releases/download/{LATEST_TAG}/' \\\n",
        "    #        f'AriaNg-{LATEST_TAG}-AllInOne.zip'\n",
        "    urllib.request.urlretrieve(findPackageR('mayswind/AriaNg', 'AllInOne.zip'), 'ariang/new.zip')\n",
        "    with zipfile.ZipFile('ariang/new.zip', 'r') as zip_ref: zip_ref.extractall('ariang')\n",
        "    try:\n",
        "        pathlib.Path('ariang/new.zip').unlink()\n",
        "    except FileNotFoundError:\n",
        "        pass\n",
        "\n",
        "# Starting up aria2 RPC and the WebUI (ariaNg)\n",
        "try:\n",
        "    if not OUTPUT_DIR:\n",
        "        OUTPUT_DIR = f\"downloads/\"\n",
        "    elif not os.path.exists(OUTPUT_DIR):\n",
        "    \n",
        "        clear_output()\n",
        "    \n",
        "        print(\"Unable to find the defined path!\")\n",
        "        exx()\n",
        "except:\n",
        "    OUTPUT_DIR = f\"{CWD}/downloads/\"\n",
        "\n",
        "if Aria2_rpc:\n",
        "    if not findProcess(\"aria2c\", \"--enable-rpc\"):\n",
        "        try:\n",
        "            trackers = requests.get(\"https://trackerslist.com/best_aria2.txt\").text\n",
        "            cmdC = r\"aria2c --enable-rpc --rpc-listen-port=6800 -D \" \\\n",
        "                   fr\"-d {OUTPUT_DIR} \" \\\n",
        "                   r\"-j 20 \" \\\n",
        "                   r\"-c \" \\\n",
        "                   fr\"--bt-tracker={trackers} \" \\\n",
        "                   r\"--bt-request-peer-speed-limit=0 \" \\\n",
        "                   r\"--bt-max-peers=0 \" \\\n",
        "                   r\"--seed-ratio=0.0 \" \\\n",
        "                   r\"--max-connection-per-server=10 \" \\\n",
        "                   r\"--min-split-size=10M \" \\\n",
        "                   r\"--follow-torrent=mem \" \\\n",
        "                   r\"--disable-ipv6=true \" \\\n",
        "                   r\" &\"\n",
        "            runSh(cmdC, shell=True)\n",
        "        except:\n",
        "            print(\"aria2 RPC is not enabled! Please enable the RPC first!\")\n",
        "\n",
        "# Configuring port forwarding\n",
        "clear_output()\n",
        "\n",
        "if Aria2_rpc:\n",
        "    Server = PortForward_wrapper(PORT_FORWARD, TOKEN, USE_FREE_TOKEN, [['Aria2_rpc', 6800, 'http']], REGION.lower(), [f\"{HOME}/.ngrok2/aria2.yml\", 5042])\n",
        "    data = Server.start('Aria2_rpc', displayB=False)\n",
        "    Host = urlparse(data['url']).hostname\n",
        "    port = \"80\"\n",
        "\n",
        "clear_output()\n",
        "\n",
        "if Ariang_WEBUI:\n",
        "    if Aria2_rpc:\n",
        "        filePath = 'ariang/index.html'\n",
        "        with open(filePath, 'r+') as f:\n",
        "            read_data = f.read()\n",
        "            f.seek(0)\n",
        "            f.truncate(0)\n",
        "            read_data = re.sub(r'(rpcHost:\"\\w+.\")|rpcHost:\"\"', f'rpcHost:\"{Host}\"', read_data)\n",
        "            read_data = re.sub(r'protocol:\"\\w+.\"', r'protocol:\"ws\"', read_data)\n",
        "            read_data = re.sub(r'rpcPort:\"\\d+.\"', f'rpcPort:\"{port}\"', read_data)\n",
        "            f.write(read_data)\n",
        "    try:\n",
        "        urllib.request.urlopen(f\"http://localhost:{PORT}\")\n",
        "    except:\n",
        "        runSh(f\"python3 -m http.server {PORT} &\", shell=True, cd=\"ariang/\")\n",
        "  \n",
        "Server = PortForward_wrapper(PORT_FORWARD, TOKEN, USE_FREE_TOKEN, [['Ariang', PORT, 'http']], REGION.lower(), [f\"{HOME}/.ngrok2/ariang.yml\", 5043])\n",
        "data2 = Server.start('Ariang', displayB=False)\n",
        "data2['url'] = urlparse(data2['url'])._replace(scheme='http').geturl()\n",
        "displayUrl(data2, pNamU='AriaNg : ')\n",
        "\n",
        "if Aria2_rpc:\n",
        "    display(HTML(\"\"\"<style>@import url('https://fonts.googleapis.com/css?family=Source+Code+Pro:200,900');  :root {   --text-color: hsla(210, 50%, 85%, 1);   --shadow-color: hsla(210, 40%, 52%, .4);   --btn-color: hsl(210, 80%, 42%);   --bg-color: #141218; }  * {   box-sizing: border-box; } button { position:relative; padding: 10px 20px;     border: none;   background: none;      font-family: \"Source Code Pro\";   font-weight: 900;font-size: 100%;     color: var(--text-color);      background-color: var(--btn-color);   box-shadow: var(--shadow-color) 2px 2px 22px;   border-radius: 4px;    z-index: 0;overflow: hidden; -webkit-user-select: text;-moz-user-select: text;-ms-user-select: text;user-select: text;}  button:focus {   outline-color: transparent;   box-shadow: var(--btn-color) 2px 2px 22px; }  .right::after, button::after {   content: var(--content);   display: block;   position: absolute;   white-space: nowrap;   padding: 40px 40px;   pointer-events:none; }  button::after{   font-weight: 200;   top: -30px;   left: -20px; }   .right, .left {   position: absolute;   width: 100%;   height: 100%;   top: 0; } .right {   left: 66%; } .left {   right: 66%; } .right::after {   top: -30px;   left: calc(-66% - 20px);      background-color: var(--bg-color);   color:transparent;   transition: transform .4s ease-out;   transform: translate(0, -90%) rotate(0deg) }  button:hover .right::after {   transform: translate(0, -47%) rotate(0deg) }  button .right:hover::after {   transform: translate(0, -50%) rotate(-7deg) }  button .left:hover ~ .right::after {   transform: translate(0, -50%) rotate(7deg) }  /* bubbles */ button::before {   content: '';   pointer-events: none;   opacity: .6;   background:     radial-gradient(circle at 20% 35%,  transparent 0,  transparent 2px, var(--text-color) 3px, var(--text-color) 4px, transparent 4px),     radial-gradient(circle at 75% 44%, transparent 0,  transparent 2px, var(--text-color) 3px, var(--text-color) 4px, transparent 4px),     radial-gradient(circle at 46% 52%, transparent 0, transparent 4px, var(--text-color) 5px, var(--text-color) 6px, transparent 6px);    width: 100%;   height: 300%;   top: 0;   left: 0;   position: absolute;   animation: bubbles 5s linear infinite both; }  @keyframes bubbles {   from {     transform: translate();   }   to {     transform: translate(0, -66.666%);   } }.zui-table {    border: solid 1px #DDEEEE;    border-collapse: collapse;    border-spacing: 0;    font: normal 13px;}.zui-table thead th {    background-color: #DDEFEF;    border: solid 1px #DDEEEE;    color: #0000009e;    padding: 10px;    text-align: left;}.zui-table tbody td {border: solid 1px #effff97a;color: #ffffffd1;    padding: 10px;}</style><center><button><table class=\"zui-table blueBG\"><p>aria2 RPC Configuration<p><thead>        <tr>            <th>Protocol</th>            <th>Host</th>            <th>Port</th>        </tr>    </thead>    <tbody>        <tr>            <td>WebSocket</td><td>\"\"\"+Host+\"\"\"</td><td>\"\"\"+port+\"\"\"</td></tr></tbody></table><p>Click <a target=\"_blank\" style=\"text-decoration: none;color: hsla(210, 50%, 85%, 1);font-size: 10px;\" href=\"http://bit.ly/2qoOw0a\">HERE</a> to see how to use the configuration.</p></button><center>\"\"\"))"
      ],
      "execution_count": null,
      "outputs": []
    },
    {
      "cell_type": "markdown",
      "metadata": {
        "id": "4DdRcv08fzTG"
      },
      "source": [
        "# <font size=6><center>✦ *Download Manager* ✦</center></font>"
      ]
    },
    {
      "cell_type": "markdown",
      "metadata": {
        "id": "Sjvzf5WLsJya"
      },
      "source": [
        "> Highly recommended to download files into the VM's local disk first and then upload those file using rclone to avoid any file corruption that you might encounter if you were to point the download directly to your mounted GDrive."
      ]
    },
    {
      "cell_type": "markdown",
      "metadata": {
        "id": "OOpAjMjxsNd6"
      },
      "source": [
        "# <font size=6 color=red><center>✦ *EXPERIMENTAL* ✦</center></font>\n",
        "\n",
        "<font size=4 color=red><center>**Everything in this section is in EXPERIMENTAL state and/or UNFINISHED and/or LEFT AS IS!  \n",
        "Any issue regarding this section will be IGNORED!**</center></font>"
      ]
    },
    {
      "cell_type": "markdown",
      "metadata": {
        "id": "UdiQLlm5zX3_"
      },
      "source": [
        "## <font size=6>FFMPEG 1</font>\n",
        "<font size=4 color=red>GPU runtime needed!</font>"
      ]
    },
    {
      "cell_type": "markdown",
      "metadata": {
        "id": "EFOqhHG6hOVH"
      },
      "source": [
        "### ***Required to use Scripts:*** Install FFmpeg, VCSI & Mkvtoolnix"
      ]
    },
    {
      "cell_type": "code",
      "execution_count": null,
      "metadata": {
        "cellView": "form",
        "id": "G3JHGE0Jtzme"
      },
      "outputs": [],
      "source": [
        "#@markdown <h3>← Click Here to Install FFmpeg, VCSI, Mkvtoolnix, Firefox, Furiousmount & Handbrake</h3>\n",
        "\n",
        "#@title <font size=\"5\">← ឵឵<i>Upgrade FFmpeg to v4.2.2</font> { vertical-output: true }\n",
        "from IPython.display import clear_output\n",
        "import os, urllib.request\n",
        "HOME = os.path.expanduser(\"~\")\n",
        "pathDoneCMD = f'{HOME}/doneCMD.sh'\n",
        "if not os.path.exists(f\"{HOME}/.ipython/ttmg.py\"):\n",
        "    hCode = \"https://raw.githubusercontent.com/totalleecher/\" \\\n",
        "                \"Google-Colab-CloudTorrent/master/res/ttmg.py\"\n",
        "    urllib.request.urlretrieve(hCode, f\"{HOME}/.ipython/ttmg.py\")\n",
        "\n",
        "from ttmg import (\n",
        "    loadingAn,\n",
        "    textAn,\n",
        ")\n",
        "\n",
        "loadingAn(name=\"lds\")\n",
        "textAn(\"Installing Dependencies...\", ty='twg')\n",
        "#os.system('pip install git+git://github.com/AWConant/jikanpy.git') //GPU Not supported\n",
        "#os.system('add-apt-repository -y ppa:jonathonf/ffmpeg-4') //GPU Not supported\n",
        "os.system('apt-get update')\n",
        "os.system('apt-get install ffmpeg')\n",
        "os.system('apt-get install mkvtoolnix')\n",
        "os.system('pip install vcsi')\n",
        "#os.system('sudo apt-get install synaptic')\n",
        "#os.system('sudo apt install firefox')\n",
        "os.system('sudo add-apt-repository ppa:stebbins/handbrake-releases -y')\n",
        "os.system('sudo apt update -y')\n",
        "os.system('sudo apt install --install-recommends handbrake-gtk handbrake-cli')\n",
        "#os.system('sudo apt-get install furiusisomount')\n",
        "\n",
        "clear_output()\n",
        "print(\"Install Finished\")"
      ]
    },
    {
      "cell_type": "markdown",
      "metadata": {
        "id": "ey6-UveDalxR"
      },
      "source": [
        "### » Re-encode a Video to a Different Resolution (*H265*) - Need GPU - Nvidia Telsa P100 or T4 (Support Both Single & Batch Processing)"
      ]
    },
    {
      "cell_type": "code",
      "execution_count": null,
      "metadata": {
        "cellView": "form",
        "id": "tsY6jhC9SXvF"
      },
      "outputs": [],
      "source": [
        "#@title Check GPU\n",
        "#@markdown Run this to connect to a Colab Instance, and see what GPU Google gave you.\n",
        "\n",
        "gpu = !nvidia-smi --query-gpu=gpu_name --format=csv\n",
        "print(gpu[1])\n",
        "print(\"The Tesla T4 and P100 are fast and support hardware encoding. The K80 and P4 are slower.\")\n",
        "print(\"Sometimes resetting the instance in the 'runtime' tab will give you a different GPU.\")"
      ]
    },
    {
      "cell_type": "code",
      "execution_count": null,
      "metadata": {
        "cellView": "form",
        "id": "Zam_JHPDalxc"
      },
      "outputs": [],
      "source": [
        "path = \"\" #@param {type:\"string\"}\n",
        "save_txt = False #@param {type:\"boolean\"}\n",
        "import os, uuid, re, IPython\n",
        "import ipywidgets as widgets\n",
        "import time\n",
        "\n",
        "from glob import glob\n",
        "from IPython.display import HTML, clear_output\n",
        "from google.colab import output, drive\n",
        "\n",
        "def mediainfo():\n",
        "  display(HTML(\"<br>\"))\n",
        "#   print(path.split(\"/\")[::-1][0])\n",
        "  display(HTML(\"<br>\"))\n",
        "#   media = !mediainfo \"$path\"\n",
        "#   media = \"\\n\".join(media).replace(os.path.dirname(path)+\"/\", \"\")\n",
        "  get_ipython().system_raw(\"\"\"mediainfo --LogFile=\"/root/.nfo\" \"$path\" \"\"\")\n",
        "  with open('/root/.nfo', 'r') as file:\n",
        "    media = file.read()\n",
        "    media = media.replace(os.path.dirname(path)+\"/\", \"\")\n",
        "  print(media)\n",
        "  get_ipython().system_raw(\"rm -f '/root/.nfo'\")\n",
        "  \n",
        "  if save_txt:\n",
        "    txt = path.rpartition('.')[0] + \".txt\"\n",
        "    if os.path.exists(txt):\n",
        "      get_ipython().system_raw(\"rm -f '$txt'\")\n",
        "    !curl -s https://pastebin.com/raw/TApKLQfM -o \"$txt\"\n",
        "    with open(txt, 'a+') as file:\n",
        "      file.write(\"\\n\\n\")\n",
        "      file.write(media)\n",
        "\n",
        "while not os.path.exists(\"/content/drive\"):\n",
        "  try:\n",
        "    drive.mount(\"/content/drive\")\n",
        "    clear_output(wait=True)\n",
        "  except:\n",
        "    clear_output()\n",
        "    \n",
        "if not os.path.exists(\"/usr/bin/mediainfo\"):\n",
        "  get_ipython().system_raw(\"apt-get install mediainfo\")\n",
        "  \n",
        "mediainfo()"
      ]
    },
    {
      "cell_type": "code",
      "execution_count": null,
      "metadata": {
        "cellView": "form",
        "id": "SHBPElqualx6"
      },
      "outputs": [],
      "source": [
        "import os, sys, re\n",
        "#@markdown <b>Encoder</b>\n",
        "Encoder = \"CPU\" #@param [\"GPU\", \"CPU\"]\n",
        "codec = \"x264\" #@param [\"x264\", \"x265\"]\n",
        "#@markdown <b>Encoding all videos in folder</b>\n",
        "video_folder_path = '' #@param {type:\"string\"}\n",
        "#@markdown ---\n",
        "#@markdown <b>Encoding selected videos</b>\n",
        "video_file_path1 = '' #@param {type:\"string\"}\n",
        "video_file_path2 = '' #@param {type:\"string\"}\n",
        "video_file_path3 = '' #@param {type:\"string\"}\n",
        "video_file_path4 = '' #@param {type:\"string\"}\n",
        "video_file_path5 = '' #@param {type:\"string\"}\n",
        "\n",
        "#counting\n",
        "if video_file_path1 != \"\":\n",
        "  coa = 1\n",
        "else:\n",
        "  coa = 0\n",
        "\n",
        "if video_file_path2 != \"\":\n",
        "  cob = 1\n",
        "else:\n",
        "  cob = 0\n",
        "\n",
        "if video_file_path3 != \"\":\n",
        "  coc = 1\n",
        "else:\n",
        "  coc = 0\n",
        "\n",
        "if video_file_path4 != \"\":\n",
        "  cod = 1\n",
        "else:\n",
        "  cod = 0\n",
        "\n",
        "if video_file_path5 != \"\":\n",
        "  coe = 1\n",
        "else:\n",
        "  coe = 0\n",
        "\n",
        "#@markdown ---\n",
        "resolution = '360p' #@param [\"2160p\",\"1440p\",\"1080p\", \"720p\", \"480p\", \"360p\", \"240p\", \"same as input\"]\n",
        "encode_setting = 'Advance' #@param [\"Advance\", \"HEVC\", \"HEVC 10 Bit\"]\n",
        "file_type = 'mkv' #@param [\"mkv\", \"mp4\"]\n",
        "rip_audio = False #@param {type:\"boolean\"}\n",
        "rip_subtitle = False #@param {type:\"boolean\"}\n",
        "\n",
        "if rip_audio == False:\n",
        "  rip_audio_string =  \"-acodec copy\"\n",
        "else:\n",
        "  rip_audio_string =  \"-an\"\n",
        "\n",
        "if rip_subtitle == False:\n",
        "  rip_subtitle_string = \"-scodec copy\"\n",
        "else:\n",
        "  rip_subtitle_string = \"-sn\"\n",
        "\n",
        "\n",
        "if resolution == '2160p':\n",
        "   w = '3840'\n",
        "elif resolution == '1440p':\n",
        "   w = '2560'\n",
        "elif resolution == '1080p':\n",
        "   w = '1980'\n",
        "elif resolution == '720p':\n",
        "   w = '1280'\n",
        "elif resolution == '480p':\n",
        "   w = '854'\n",
        "elif resolution == '360p':\n",
        "   w = '640'\n",
        "elif resolution == '240p':\n",
        "   w = '426'\n",
        "else:\n",
        "   w = ''\n",
        "\n",
        "if  (w == '3840' or w == '2560' or w == '1980' or w == '1280' or w == '854' or w == '640' or w == '426'):\n",
        "  scale_string = \"-vf  scale=\"+(w)+\":-1:flags=lanczos\" \n",
        "else:\n",
        "  scale_string = \"\"\n",
        "\n",
        "ext = \".mp4\",\".MP4\",\".MTS\",\".mts\",\".m2ts\",\".mkv\",\".avi\",\".MOV\",\".mov\",\".wmv\",\".WMV\",\".flv\",\".mpg\",\".webm\",\".WEBM\"\n",
        "# As file at filePath is deleted now, so we should check if file exists or not not before deleting them\n",
        "filePath = \"ffmpeg.txt\"\n",
        "if os.path.exists(filePath):\n",
        "     os.remove(filePath)\n",
        "\n",
        "if video_folder_path == \"\":\n",
        " #try:\n",
        "  f = open(\"ffmpeg.txt\", \"+w\")\n",
        "  x = (video_file_path1) + \"\\n\" + (video_file_path2) + \"\\n\" +(video_file_path3) + \"\\n\" +(video_file_path4) +\"\\n\" + (video_file_path5)\n",
        "  f.write(x)\n",
        "  f.close()\n",
        "  count = coa+cob+coc+cod+coe\n",
        " #except:\n",
        "  #err = 1\n",
        "\n",
        "else:\n",
        "#writing temp file\n",
        " for file in os.listdir(video_folder_path):\n",
        "    if file.endswith(tuple(ext)):\n",
        "        \n",
        "     x = os.path.join(video_folder_path, file) \n",
        "     #print(x)\n",
        "     print(x, file=open(\"ffmpeg.txt\", \"+a\"))    \n",
        "\n",
        "#counting line\n",
        " thefilepath = \"ffmpeg.txt\"\n",
        " count = len(open(thefilepath).readlines(  ))\n",
        "\n",
        "#@markdown ---\n",
        "#@markdown <h4>Advance Settings</h4>\n",
        "#@markdown <b>Video Setting</b>\n",
        "preset = 'slow' #@param [\"slow\", \"medium\", \"fast\", \"hq\", \"hp\", \"bd\", \"ll\", \"llhq\", \"llhp\", \"lossless\", \"losslesshp\"]\n",
        "level = '5.2' #@param [\"default\",\"4.1\", \"5.1\", \"5.2\", \"6.2\"]\n",
        "tier = 'main' #@param [\"default\",\"main\", \"high\"]\n",
        "#@markdown <code>Setting only for GPU Encoding</code>\n",
        "profile = 'main' #@param [\"main\", \"main10\", \"rext\"]\n",
        "pixfmt = 'p010le' #@param [\"nv12\", \"yuv420p\", \"p010le\", \"yuv444p\", \"p016le\", \"yuv444p16le\"]\n",
        "rc = 'vbr_hq' #@param [\"vbr\", \"cbr\", \"vbr_2pass\", \"ll_2pass_size\", \"vbr_hq\", \"cbr_hq\"]\n",
        "rcla = '32' #@param [\"8\", \"16\", \"32\", \"64\"]\n",
        "overall_bitrate = 2500 #@param {type:\"slider\", min:500, max:10000, step:100}\n",
        "max_bitrate = 20000 #@param {type:\"slider\", min:500, max:50000, step:100}\n",
        "buffer_size = 60000 #@param {type:\"slider\", min:500, max:90000, step:100}\n",
        "deblock = -3 #@param {type:\"slider\", min:-6, max:6, step:1}\n",
        "reframe = 5 #@param {type:\"slider\", min:1, max:6, step:1}\n",
        "surfaces = 64 #@param {type:\"slider\", min:0, max:64, step:1}\n",
        "#@markdown <code>Setting only for CPU Encoding</code>\n",
        "profile_cpu = 'main10' #@param [\"main10\"]\n",
        "pixfmt_cpu = 'yuv420p10le' #@param [\"yuv420p\",\"yuv420p10le\",\"yuv444p\",\"yuv444p16le\"]\n",
        "threads = 16 #@param {type:\"slider\", min:0, max:16, step:1}\n",
        "crf = 28 #@param {type:\"slider\", min:0, max:30, step:1}\n",
        "\n",
        "\n",
        "if level != \"default\":\n",
        "  l_string =  \"-level \"+str(level)\n",
        "else:\n",
        "  l_string =\"\"\n",
        "\n",
        "if tier != \"default\":\n",
        " t_string =  \"-tier \"+str(tier)\n",
        "else:\n",
        " t_string = \"\"\n",
        "\n",
        "#tp = '1' #@param [\"0\", \"1\"]\n",
        "#cq = '21' #@param {type:\"string\"}\n",
        "#qm ='21' #@param {type:\"string\"}\n",
        "#qmx = '27' #@param {type:\"string\"}\n",
        "#qp = '23' #@param {type:\"string\"}\n",
        "#qb = '25' #@param {type:\"string\"}\n",
        "#qi = '21' #@param {type:\"string\"}\n",
        "\n",
        "#@markdown <b>Audio Setting</b>\n",
        "\n",
        "audio_output = 'No audio' #@param [\"None\", \"copy\", \"flac\", \"aac\", \"libopus\", \"eac3\", \"No audio\", \"same as input\"]\n",
        "channel = 'same as input' #@param [\"DownMix 2CH\", \"same as input\"]\n",
        "\n",
        "if audio_output == \"same as input\":\n",
        "  audio_string = \"-acodec copy\"\n",
        "elif audio_output == \"No audio\":\n",
        "  audio_string = \"-an\"\n",
        "elif audio_output == \"None\":\n",
        "  audio_string = \"\"\n",
        "else:\n",
        "  audio_string = \"-c:a \"+(audio_output)\n",
        "\n",
        "if channel == \"DownMix 2CH\":\n",
        "  channel_string =\"-ac 2\"\n",
        "else:\n",
        "  channel_string =\"\"\n",
        "\n",
        "#@markdown <b>Subtitle Setting</b>\n",
        "#@markdown <h5>Please use <code>ass</code> file for hardsub</h5>\n",
        "hardsub = False #@param {type:\"boolean\"}\n",
        "subtitle_option = 'same as input' #@param [\"None\",\"No sub\", \"Add custom sub\",\"same as input\"]\n",
        "custom_subtitle_path = \"\" #@param {type:\"string\"}\n",
        "\n",
        "#@markdown <b>Custom Added Setting</b>\n",
        "custom_command = \"\" #@param {type:\"string\"}\n",
        "\n",
        "\n",
        "if hardsub == False:\n",
        "\n",
        " if subtitle_option == \"No sub\":\n",
        "  subtitle_string = \"-sn\"\n",
        " elif subtitle_option == \"same as input\":\n",
        "  subtitle_string = \"-scodec copy\"\n",
        " elif subtitle_option == \"None\":\n",
        "  subtitle_string = \"\"\n",
        " else:\n",
        "  subtitle_string = \"-i \"+(custom_subtitle_path)\n",
        "\n",
        "else:\n",
        "  subtitle_string = \"ass=\"+(custom_subtitle_path)\n",
        "#=================\n",
        "if custom_command != \"\":\n",
        " c_string = custom_command\n",
        "else:\n",
        " c_string = \"\"\n",
        "#=================\n",
        "\n",
        "os.environ['ps'] = preset\n",
        "os.environ['pf'] = profile\n",
        "os.environ['pf_cpu'] = profile_cpu\n",
        "os.environ['pfm'] = pixfmt\n",
        "os.environ['pfmcpu'] = pixfmt_cpu\n",
        "os.environ['br'] = str(overall_bitrate)\n",
        "os.environ['max'] = str(max_bitrate)\n",
        "os.environ['buff'] = str(buffer_size)\n",
        "os.environ['de'] = str(deblock)\n",
        "os.environ['ref'] = str(reframe)\n",
        "os.environ['sur'] = str(surfaces)\n",
        "os.environ['lv'] = l_string\n",
        "os.environ['ti'] = t_string\n",
        "os.environ['rc'] = rc\n",
        "os.environ['rl'] = rcla\n",
        "os.environ['thr'] = str(threads)\n",
        "os.environ['crf'] = str(crf)\n",
        "os.environ['res'] = resolution\n",
        "#os.environ['tp'] = tp\n",
        "#os.environ['cq'] = cq\n",
        "#os.environ['qP'] = qp\n",
        "#os.environ['qB'] = qb\n",
        "#os.environ['qI'] = qi\n",
        "#os.environ['qm'] = qm\n",
        "#os.environ['qmx'] = qmx\n",
        "os.environ['scs'] = str(scale_string)\n",
        "os.environ['aus'] = audio_string\n",
        "os.environ['chc'] = channel_string\n",
        "os.environ['sus'] = subtitle_string\n",
        "os.environ['cus'] = str(c_string)\n",
        "#=================\n",
        "#Batch Encoding\n",
        "if count != 0:\n",
        " f=open('ffmpeg.txt')\n",
        " lines=f.readlines()\n",
        "\n",
        " i = 0\n",
        " while i < count:\n",
        "  video_file_path = lines[i]\n",
        "  video_file_path = video_file_path.rstrip(\"\\n\")\n",
        "  #print(video_file_path)\n",
        "\n",
        "  delsplit = re.search(\"\\/(?:.(?!\\/))+$\", video_file_path)\n",
        "  testsplit = video_file_path.split(\"/\")\n",
        "  filename = re.sub(\"^[\\/]\", \"\", delsplit.group(0))\n",
        "  filename_raw = re.sub(\".{4}$\", \"\", filename)\n",
        "  resolution_raw = re.search(\"[^p]{3,4}\", resolution)\n",
        "  output_file_path = re.search(\"^[\\/].+\\/\", video_file_path)\n",
        "\n",
        "  os.environ['inputFile'] = video_file_path\n",
        "  os.environ['outputPath'] = output_file_path.group(0)\n",
        "  os.environ['fileName'] = filename_raw\n",
        "  os.environ['fileType'] = file_type\n",
        "  os.environ['resolutionWidth'] = resolution_raw.group(0)\n",
        "\n",
        "  if Encoder == \"GPU\":\n",
        "   if codec == \"x265\":\n",
        "    if encode_setting == \"Advance\":\n",
        "\n",
        "     !ffmpeg -hwaccel cuvid -i \"$inputFile\" -stats -flags +loop -c:v hevc_nvenc -preset:v \"$ps\" -rc \"$rc\" -2pass 1 -b:v \"$br\"k -maxrate \"$max\"k -bufsize \"$buff\"k -profile:v \"$pf\" $lv $ti -pix_fmt \"$pfm\" -rc-lookahead \"$rl\" -no-scenecut 1 -weighted_pred 1 -deblock:v \"$de\":\"$de\" -refs:v \"$ref\" -surfaces \"$sur\" $scs $aus $chs $sus $cus \"$outputPath\"/\"$fileName\"-\"$res\".\"$fileType\" \n",
        "  \n",
        "    elif encode_setting == \"HEVC\":\n",
        "     !ffmpeg -hwaccel cuvid -i \"$inputFile\" -stats -flags +loop -c:v hevc_nvenc -preset:v slow -rc vbr_hq -2pass 1 -b:v 2500k -maxrate 20M -bufsize 60M -cq 1 -forced-idr 1 -nonref_p 1 -pix_fmt p010le -rc-lookahead 32 -no-scenecut 1  -weighted_pred 1 -deblock:v -3:-3 -refs:v 5  -surfaces 64 $scs $aus $sus \"$outputPath\"/\"$fileName\"-\"$res\".\"$fileType\" \n",
        "\n",
        "    else:\n",
        "     !ffmpeg -hwaccel cuvid  -stats -flags +loop -c:v hevc_nvenc -preset:v slow -rc vbr_hq -2pass 1 -b:v 2500k -maxrate 20M -bufsize 60M -cq 1 -forced-idr 1 -nonref_p 1 -profile:v main10 -pix_fmt p010le -rc-lookahead 32 -no-scenecut 1  -weighted_pred 1 -deblock:v -3:-3 -refs:v 5  -surfaces 64 $scs $aus $sus \"$outputPath\"/\"$fileName\"-\"$res\".\"$fileType\" \n",
        "   else:\n",
        "     !ffmpeg -hwaccel cuvid -i \"$inputFile\" -c:v h264_cuvid $scs $aus $sus \"$outputPath\"/\"$fileName\"-\"$res\".\"$fileType\" \n",
        "     \n",
        "  else:\n",
        "   if codec == \"x265\":\n",
        "    if encode_setting == \"Advance\":\n",
        "     !ffmpeg -i \"$inputFile\" -flags +loop -c:v libx265 -profile:v \"$pf_cpu\" $lv $ti -pix_fmt \"$pfmcpu\" -threads \"$thr\" -thread_type frame -preset:v \"$ps\" -crf \"$crf\" -x265-params \"rc-lookahead=40:bframes=4:b-adapt=2:ref=6:aq-mode=0:aq-strength=0:aq-motion=0:me=hex:subme=3:max-merge=3:weightb=1:no-fast-intra=1:tskip-fast=0:rskip=0:strong-intra-smoothing=0:b-intra=1:early-skip=0:sao=0:rd=1:psy-rd=0:deblock=-5,-5\" $scs $aus $chs  $sus $cus \"$outputPath\"/\"$fileName\"-\"$res\".\"$fileType\" \n",
        "   \n",
        "    elif encode_setting == \"HEVC\":\n",
        "     !ffmpeg -i \"$inputFile\" -c:v libx265 -crf 28 -threads 6 -thread_type frame $scs $aus $sus \"$outputPath\"/\"$fileName\"-\"$res\".\"$fileType\" \n",
        "\n",
        "    else:\n",
        "     !ffmpeg -i \"$inputFile\" -c:v libx265 -profile:v main10 -crf 28 -threads 6 -thread_type frame $scs $aus $sus \"$outputPath\"/\"$fileName\"-\"$res\".\"$fileType\" \n",
        "   else:\n",
        "     !ffmpeg -hide_banner -i \"$inputFile\" -c:v libx264 -preset \"$ps\" -crf \"$crf\" -threads \"$thr\" -strict experimental $scs $aus $sus \"$outputPath\"/\"$fileName\"-\"$res\".\"$fileType\" \n",
        "\n",
        "  i += 1\n",
        "\n",
        " else:\n",
        "  print(\"All Finished\")\n",
        "  os.remove(filePath)\n",
        "else:\n",
        "  print(\"Please input file or folder path\")\n",
        "#End of Code V1.5 - Codemater -  "
      ]
    },
    {
      "cell_type": "markdown",
      "metadata": {
        "id": "GahMjYf8miNs"
      },
      "source": [
        "### » Generate Thumbnails - Preview from Video "
      ]
    },
    {
      "cell_type": "code",
      "execution_count": null,
      "metadata": {
        "cellView": "form",
        "id": "0nY7QbDIrnGl"
      },
      "outputs": [],
      "source": [
        "#@markdown <h3>← Click Here to generate thumbnail for all video in input folder path</h3>\n",
        "\n",
        "import os\n",
        "folder_path = \"\" #@param {type:\"string\"}\n",
        "ext = \".mp4\",\".MP4\",\".MTS\",\".mts\",\".m2ts\",\".mkv\",\".avi\",\".MOV\",\".mov\",\".wmv\",\".WMV\",\".flv\",\".mpg\",\".webm\",\".WEBM\"\n",
        "video_path = '' #@param {type:\"string\"}\n",
        "\n",
        "\n",
        "#counting\n",
        "if video_path != \"\":\n",
        "  count = 1\n",
        "else:\n",
        "  count = 0\n",
        "\n",
        "# As file at filePath is deleted now, so we should check if file exists or not not before deleting them\n",
        "filePath = \"vcsi.txt\"\n",
        "if os.path.exists(filePath):\n",
        "     os.remove(filePath)\n",
        "\n",
        "\n",
        "\n",
        "if (folder_path == \"\") and (video_path != \"\"):\n",
        " #try:\n",
        "  f = open(\"vcsi.txt\", \"+w\")\n",
        "  f.write(video_path)\n",
        "  f.close()\n",
        "  count = 1\n",
        "\n",
        "elif (folder_path == \"\") and (video_path == \"\"):\n",
        "  count = 0\n",
        "\n",
        "else:\n",
        "#writing temp file\n",
        " for file in os.listdir(folder_path):\n",
        "    if file.endswith(tuple(ext)):\n",
        "        \n",
        "     x = os.path.join(folder_path, file) \n",
        "     #print(x)\n",
        "     print(x, file=open(\"vcsi.txt\", \"+a\"))    \n",
        "\n",
        "#counting line\n",
        " thefilepath = \"vcsi.txt\"\n",
        " count = len(open(thefilepath).readlines(  ))\n",
        "\n",
        "\n",
        "import os, sys, re\n",
        "from IPython.display import Image, display\n",
        "os.makedirs(\"/content/drive/My Drive/Thumbnail\", exist_ok=True)\n",
        "\n",
        "output_file_type = 'png' #@param [\"png\", \"jpg\"]\n",
        "creation_engine = 'vcsi' #@param [\"ffmpeg\", \"vcsi\"]\n",
        "output_path = 'same folder' #@param [\"same folder\", \"My Drive/Thumbnail\"]\n",
        "#@markdown <code>Eg : gird 3 = 3x3</code>\n",
        "grid = 4 #@param {type:\"slider\", min:1, max:20, step:1}\n",
        "default_grid = True #@param {type:\"boolean\"}\n",
        "time_stamp = False #@param {type:\"boolean\"}\n",
        "\n",
        "\n",
        "if time_stamp == True:\n",
        "  t_string = \"-t\"\n",
        "else:\n",
        "  t_string = \"\"\n",
        "\n",
        "if default_grid == False:\n",
        "  g_string = \"-g \" + str(grid) + \"x\" + str(grid) \n",
        "else:\n",
        "  g_string = \"\"\n",
        "\n",
        "os.environ['ts'] = t_string\n",
        "os.environ['gs'] = g_string\n",
        "#Batch Encoding\n",
        "if count != 0:\n",
        " f=open('vcsi.txt')\n",
        " lines=f.readlines()\n",
        "\n",
        " i = 0\n",
        " while i < count:\n",
        "  video_file_path = lines[i]\n",
        "  video_file_path = video_file_path.rstrip(\"\\n\")\n",
        "  print(video_file_path)\n",
        "  \n",
        "  output_file_path = re.search(\"^[\\/].+\\/\", video_file_path)\n",
        "  output_file_path_raw = output_file_path.group(0)\n",
        "  delsplit = re.search(\"\\/(?:.(?!\\/))+$\", video_file_path)\n",
        "  filename = re.sub(\"^[\\/]\", \"\", delsplit.group(0))\n",
        "  filename_raw = re.sub(\".{4}$\", \"\", filename)\n",
        "  file_extension = re.search(\".{3}$\", filename)\n",
        "  file_extension_raw = file_extension.group(0)\n",
        "\n",
        "  os.environ['inputFile'] = video_file_path\n",
        "  os.environ['outputPath'] = output_file_path_raw\n",
        "  os.environ['outputExtension'] = output_file_type\n",
        "  os.environ['fileName'] = filename_raw\n",
        "  os.environ['fileExtension'] = file_extension_raw\n",
        "\n",
        "  if output_path == \"same folder\":\n",
        "     if creation_engine == 'ffmpeg':\n",
        "      !ffmpeg -hide_banner -i \"$inputFile\" -vframes 1 -q:v 0 -vf \"select=not(mod(n\\,200)),scale=-1:480,tile=3x2\" -an \"$outputPath\"/\"$fileName\"_thumbnails.\"$outputExtension\"\n",
        "\n",
        "  if output_path == \"same folder\":\n",
        "     if creation_engine == 'vcsi':\n",
        "      !vcsi $ts $gs \"$inputFile\" -o \"$outputPath\"/\"$fileName\"_thumbnails.\"$outputExtension\"\n",
        "\n",
        "  if not output_path == \"same folder\":\n",
        "      !vcsi $ts $gs \"$inputFile\" -o \"/content/drive/My Drive/Thumbnail\"/\"$fileName\"_thumbnails.\"$outputExtension\"\n",
        "\n",
        "  i += 1\n",
        "\n",
        " else:\n",
        "  print(\"All Finished\")\n",
        "  os.remove(filePath)\n",
        "else:\n",
        "  print(\"Please video file or folder path\")\n",
        "#End of Code V1.2 - Codemater -  "
      ]
    },
    {
      "cell_type": "markdown",
      "metadata": {
        "id": "NQ0TxfKeghR8"
      },
      "source": [
        "### » Misc."
      ]
    },
    {
      "cell_type": "code",
      "execution_count": null,
      "metadata": {
        "cellView": "form",
        "id": "Ls4O5VLwief-"
      },
      "outputs": [],
      "source": [
        "#@title Convert *.mkv* ➔ *.mp4* (Lossless)\n",
        "import os, sys, re\n",
        "\n",
        "video_file_path = \"\" #@param {type:\"string\"}\n",
        "\n",
        "output_file_path = re.search(\"^[\\/].+\\/\", video_file_path)\n",
        "output_file_path_raw = output_file_path.group(0)\n",
        "delsplit = re.search(\"\\/(?:.(?!\\/))+$\", video_file_path)\n",
        "filename = re.sub(\"^[\\/]\", \"\", delsplit.group(0))\n",
        "filename_raw = re.sub(\".{4}$\", \"\", filename)\n",
        "\n",
        "os.environ['inputFile'] = video_file_path\n",
        "os.environ['outputFile'] = filename_raw\n",
        "os.environ['outputPath'] = output_file_path_raw\n",
        "\n",
        "!ffmpeg -hide_banner -i \"$inputFile\" -c copy -strict experimental \"$outputPath\"\"$outputFile\".mp4"
      ]
    },
    {
      "cell_type": "code",
      "execution_count": null,
      "metadata": {
        "cellView": "form",
        "id": "iFBUeQhn7QTc"
      },
      "outputs": [],
      "source": [
        "#@title Convert Trim Video File (Lossless)\n",
        "\n",
        "import os, sys, re\n",
        "\n",
        "video_file_path = \"\" #@param {type:\"string\"}\n",
        "start_time = \"00:00:00.000\" #@param {type:\"string\"}\n",
        "end_time = \"00:01:00.000\" #@param {type:\"string\"}\n",
        "\n",
        "output_file_path = re.search(\"^[\\/].+\\/\", video_file_path)\n",
        "output_file_path_raw = output_file_path.group(0)\n",
        "delsplit = re.search(\"\\/(?:.(?!\\/))+$\", video_file_path)\n",
        "filename = re.sub(\"^[\\/]\", \"\", delsplit.group(0))\n",
        "filename_raw = re.sub(\".{4}$\", \"\", filename)\n",
        "file_extension = re.search(\".{3}$\", filename)\n",
        "file_extension_raw = file_extension.group(0)\n",
        "\n",
        "os.environ['inputFile'] = video_file_path\n",
        "os.environ['outputPath'] = output_file_path_raw\n",
        "os.environ['startTime'] = start_time\n",
        "os.environ['endTime'] = end_time\n",
        "os.environ['fileName'] = filename_raw\n",
        "os.environ['fileExtension'] = file_extension_raw\n",
        "\n",
        "!ffmpeg -hide_banner -i \"$inputFile\" -ss \"$startTime\" -to \"$endTime\" -c copy \"$outputPath\"/\"$fileName\"-TRIM.\"$fileExtension\""
      ]
    },
    {
      "cell_type": "code",
      "execution_count": null,
      "metadata": {
        "cellView": "form",
        "id": "nSeO98YQoTJe"
      },
      "outputs": [],
      "source": [
        "#@title Extract Audio from Video File (Lossless)\n",
        "\n",
        "import os, sys, re\n",
        "\n",
        "video_file_path = \"\" #@param {type:\"string\"}\n",
        "output_file_extension = 'm4a' #@param [\"m4a\", \"mp3\", \"opus\", \"flac\", \"wav\"]\n",
        "\n",
        "delsplit = re.search(\"\\/(?:.(?!\\/))+$\", video_file_path)\n",
        "output_file_path = re.search(\"^[\\/].+\\/\", video_file_path)\n",
        "filename = re.sub(\"^[\\/]\", \"\", delsplit.group(0))\n",
        "filename_raw = re.sub(\".{4}$\", \"\", filename)\n",
        "\n",
        "os.environ['inputFile'] = video_file_path\n",
        "os.environ['outputPath'] = output_file_path.group(0)\n",
        "os.environ['fileName'] = filename_raw\n",
        "os.environ['fileType'] = output_file_extension\n",
        "\n",
        "!ffmpeg -hide_banner -i \"$inputFile\" -vn -c:a copy \"$outputPath\"/\"$fileName\"-audio.\"$fileType\""
      ]
    },
    {
      "cell_type": "code",
      "execution_count": null,
      "metadata": {
        "cellView": "form",
        "id": "CEHi5EMm9lXG"
      },
      "outputs": [],
      "source": [
        "#@title Crop Video\n",
        "import os, sys, re\n",
        "\n",
        "video_file_path = \"\" #@param {type:\"string\"}\n",
        "out_width = \"1280\" #@param {type:\"string\"}\n",
        "out_height = \"200\" #@param {type:\"string\"}\n",
        "starting_position_x = \"0\" #@param {type:\"string\"}\n",
        "starting_position_y = \"300\" #@param {type:\"string\"}\n",
        "\n",
        "output_file_path = re.search(\"^[\\/].+\\/\", video_file_path)\n",
        "output_file_path_raw = output_file_path.group(0)\n",
        "delsplit = re.search(\"\\/(?:.(?!\\/))+$\", video_file_path)\n",
        "filename = re.sub(\"^[\\/]\", \"\", delsplit.group(0))\n",
        "filename_raw = re.sub(\".{4}$\", \"\", filename)\n",
        "file_extension = re.search(\".{3}$\", filename)\n",
        "file_extension_raw = file_extension.group(0)\n",
        "\n",
        "os.environ['inputFile'] = video_file_path\n",
        "os.environ['outputPath'] = output_file_path_raw\n",
        "os.environ['outWidth'] = out_width\n",
        "os.environ['outHeight'] = out_height\n",
        "os.environ['positionX'] = starting_position_x\n",
        "os.environ['positionY'] = starting_position_y\n",
        "os.environ['fileName'] = filename_raw\n",
        "os.environ['fileExtension'] = file_extension_raw\n",
        "\n",
        "!ffmpeg -hide_banner -i \"$inputFile\" -filter:v \"crop=$outWidth:$outHeight:$positionX:$positionY\" \"$outputPath\"/\"$fileName\"-CROP.\"$fileExtension\""
      ]
    },
    {
      "cell_type": "code",
      "execution_count": null,
      "metadata": {
        "cellView": "form",
        "id": "ee5omyu53kv0"
      },
      "outputs": [],
      "source": [
        "#@title Extract Individual Frames from Video (*Lossless*)\n",
        "import os, sys, re\n",
        "\n",
        "video_file_path = \"\" #@param {type:\"string\"}\n",
        "start_time = \"00:00:00.000\" #@param {type:\"string\"}\n",
        "end_time = \"00:01:00.000\" #@param {type:\"string\"}\n",
        "frame_rate = \"23.976\" #@param {type:\"string\"}\n",
        "\n",
        "#@markdown This will create a folder in the same directory titled \"`Extracted Frames`\"\n",
        "#@markdown * [*Example*](https://yuju.pw/y/36pP.png) *of output folder*\n",
        "\n",
        "\n",
        "output_file_path = re.search(\"^[\\/].+\\/\", video_file_path)\n",
        "output_file_path_raw = output_file_path.group(0)\n",
        "delsplit = re.search(\"\\/(?:.(?!\\/))+$\", video_file_path)\n",
        "filename = re.sub(\"^[\\/]\", \"\", delsplit.group(0))\n",
        "filename_raw = re.sub(\".{4}$\", \"\", filename)\n",
        "file_extension = re.search(\".{3}$\", filename)\n",
        "file_extension_raw = file_extension.group(0)\n",
        "\n",
        "os.environ['inputFile'] = video_file_path\n",
        "os.environ['outputPath'] = output_file_path_raw\n",
        "os.environ['startTime'] = start_time\n",
        "os.environ['endTime'] = end_time\n",
        "os.environ['frameRate'] = frame_rate\n",
        "os.environ['fileName'] = filename_raw\n",
        "os.environ['fileExtension'] = file_extension_raw\n",
        "\n",
        "!mkdir \"$outputPath\"/\"Extracted Frames\"\n",
        "!ffmpeg -hide_banner -i \"$inputFile\" -ss \"$startTime\" -to \"$endTime\" -r \"$frameRate\"/1 \"$outputPath\"/\"Extracted Frames\"/frame%04d.png\n"
      ]
    },
    {
      "cell_type": "code",
      "execution_count": null,
      "metadata": {
        "cellView": "form",
        "id": "qRVrWJDPFvYY"
      },
      "outputs": [],
      "source": [
        "#@markdown <h3>← Verify Tracks for Video</h3>\n",
        "import os, sys, re\n",
        "video_file_path = \"\" #@param {type:\"string\"}\n",
        "\n",
        "!mkvmerge -i \"$video_file_path\""
      ]
    },
    {
      "cell_type": "code",
      "execution_count": null,
      "metadata": {
        "cellView": "form",
        "id": "IVoQDyfT06bN"
      },
      "outputs": [],
      "source": [
        "#@title Extract Subtitle from Video \n",
        "import os, sys, re\n",
        "\n",
        "video_file_path = \"\" #@param {type:\"string\"}\n",
        "output_file_type = 'idx/sub' #@param [\"srt\", \"ass\", \"idx/sub\"]\n",
        "\n",
        "output_file_path = re.search(\"^[\\/].+\\/\", video_file_path)\n",
        "output_file_path_raw = output_file_path.group(0)\n",
        "delsplit = re.search(\"\\/(?:.(?!\\/))+$\", video_file_path)\n",
        "filename = re.sub(\"^[\\/]\", \"\", delsplit.group(0))\n",
        "filename_raw = re.sub(\".{4}$\", \"\", filename)\n",
        "file_extension = re.search(\".{3}$\", filename)\n",
        "file_extension_raw = file_extension.group(0)\n",
        "\n",
        "os.environ['inputFile'] = video_file_path\n",
        "os.environ['outputPath'] = output_file_path_raw\n",
        "os.environ['outputExtension'] = output_file_type\n",
        "os.environ['fileName'] = filename_raw\n",
        "os.environ['fileExtension'] = file_extension_raw\n",
        "\n",
        "if output_file_type == 'srt':\n",
        "    !ffmpeg -hide_banner -i \"$inputFile\" \"$outputPath\"/\"$fileName\".\"$outputExtension\"\n",
        "\n",
        "if output_file_type == 'ass':\n",
        "    !ffmpeg -hide_banner -i \"$inputFile\" \"$outputPath\"/\"$fileName\".\"$outputExtension\"\n",
        "\n",
        "if output_file_type == 'idx/sub':\n",
        "    !mkvextract \"$inputFile\" tracks 2:\"$outputPath\"/\"$fileName\".idx"
      ]
    },
    {
      "cell_type": "code",
      "execution_count": null,
      "metadata": {
        "cellView": "form",
        "id": "aURlOf9BC1P3"
      },
      "outputs": [],
      "source": [
        "#@title Convert Audio Filetype (*mp3, m4a, ogg, flac, etc.*)\n",
        "import os, sys, re\n",
        "\n",
        "audio_file_path = \"\" #@param {type:\"string\"}\n",
        "output_file_type = \"mp3\" #@param [\"mp3\", \"ogg\", \"m4a\", \"opus\", \"flac\", \"alac\", \"wav\"]\n",
        "\n",
        "output_file_path = re.search(\"^[\\/].+\\/\", audio_file_path)\n",
        "output_file_path_raw = output_file_path.group(0)\n",
        "delsplit = re.search(\"\\/(?:.(?!\\/))+$\", audio_file_path)\n",
        "filename = re.sub(\"^[\\/]\", \"\", delsplit.group(0))\n",
        "filename_raw = re.sub(\".{4}$\", \"\", filename)\n",
        "file_extension = re.search(\".{3}$\", filename)\n",
        "file_extension_raw = file_extension.group(0)\n",
        "\n",
        "os.environ['inputFile'] = audio_file_path\n",
        "os.environ['outputPath'] = output_file_path_raw\n",
        "os.environ['fileExtension'] = output_file_type\n",
        "os.environ['fileName'] = filename_raw\n",
        "\n",
        "!ffmpeg -hide_banner -i \"$inputFile\" \"$outputPath\"/\"$fileName\"converted.\"$fileExtension\""
      ]
    },
    {
      "cell_type": "markdown",
      "metadata": {
        "id": "Ja95mvvq8oei"
      },
      "source": [
        "### Extract HardSub (*Code still pending - Require python 3.7*)"
      ]
    },
    {
      "cell_type": "code",
      "execution_count": null,
      "metadata": {
        "cellView": "form",
        "id": "nsT83IDywPFe"
      },
      "outputs": [],
      "source": [
        "#@title\n",
        "#@markdown <h3>⬅️ Click Here to START server</h3>\n",
        "\n",
        "!sudo apt-get update \n",
        "!sudo apt install tesseract-ocr\n",
        "!sudo apt install libtesseract-dev\n",
        "!sudo apt-get install tesseract-ocr-eng-mya\n",
        "!sudo pip install pytesseract\n",
        "!pip3 install opencv-python\n",
        "!sudo apt-get install libopencv-dev\n",
        "!pip install videocr\n",
        "\n",
        "from IPython.display import HTML, clear_output\n",
        "\n",
        "clear_output()\n",
        "\n",
        "print(\"Server Started Successfully\")"
      ]
    },
    {
      "cell_type": "code",
      "execution_count": null,
      "metadata": {
        "id": "EzF2X0m7FIku"
      },
      "outputs": [],
      "source": [
        "!pip install progressbar2 baidu-aip opencv-python-headless numpy"
      ]
    },
    {
      "cell_type": "code",
      "execution_count": null,
      "metadata": {
        "id": "3kabgg9wFmjv"
      },
      "outputs": [],
      "source": [
        "!git clone https://github.com/fanyange/ocr_video_hardcoded_subtitles.git"
      ]
    },
    {
      "cell_type": "code",
      "execution_count": null,
      "metadata": {
        "id": "D313rmPQFrQ3"
      },
      "outputs": [],
      "source": [
        "%cd /content/ocr_video_hardcoded_subtitles"
      ]
    },
    {
      "cell_type": "code",
      "execution_count": null,
      "metadata": {
        "id": "40JsjJCBxWcn"
      },
      "outputs": [],
      "source": [
        "from videocr import get_subtitles\n",
        "\n",
        "if __name__ == '__main__':  # This check is mandatory for Windows.\n",
        "    print(get_subtitles('video.mp4', lang='chi_sim+eng', sim_threshold=70, conf_threshold=65))"
      ]
    },
    {
      "cell_type": "code",
      "execution_count": null,
      "metadata": {
        "id": "KXWYsnPOxJVd"
      },
      "outputs": [],
      "source": [
        "get_subtitles(\n",
        "    video_path: str, lang='eng', time_start='0:00', time_end='',\n",
        "    conf_threshold=65, sim_threshold=90, use_fullframe=False)"
      ]
    },
    {
      "cell_type": "code",
      "execution_count": null,
      "metadata": {
        "id": "Dnkbv5UyGzMJ"
      },
      "outputs": [],
      "source": [
        "%cd /content"
      ]
    },
    {
      "cell_type": "code",
      "execution_count": null,
      "metadata": {
        "id": "knnSIyZzG2gs"
      },
      "outputs": [],
      "source": [
        "!git clone https://github.com/aritra1999/Video-OCR"
      ]
    },
    {
      "cell_type": "code",
      "execution_count": null,
      "metadata": {
        "id": "dJYInqIZHAPJ"
      },
      "outputs": [],
      "source": [
        "%cd /content/Video-OCR"
      ]
    },
    {
      "cell_type": "code",
      "execution_count": null,
      "metadata": {
        "id": "anaBbX-VHEwk"
      },
      "outputs": [],
      "source": [
        "!pip install -r reuirements.txt\n",
        "!python final.py"
      ]
    },
    {
      "cell_type": "code",
      "execution_count": null,
      "metadata": {
        "id": "BKvHp7QUKMGL"
      },
      "outputs": [],
      "source": [
        "!git clone https://github.com/rflynn/mangold.git"
      ]
    },
    {
      "cell_type": "code",
      "execution_count": null,
      "metadata": {
        "id": "Sc5dglFDKU80"
      },
      "outputs": [],
      "source": [
        "%cd /content/mangold"
      ]
    },
    {
      "cell_type": "code",
      "execution_count": null,
      "metadata": {
        "id": "BUm3Yn42KbHD"
      },
      "outputs": [],
      "source": [
        "!python ocr1.py pitrain.png"
      ]
    },
    {
      "cell_type": "markdown",
      "metadata": {
        "id": "CD36vcpf2FSb"
      },
      "source": [
        "## <font size=6>FFMPEG 2</font>\n",
        "<font size=4 color=red>GPU runtime needed!</font>"
      ]
    },
    {
      "cell_type": "markdown",
      "metadata": {
        "id": "RDHuIkoi6l9a"
      },
      "source": [
        "### <font face=\"Rubik\" size=\"4\">» </font><font face=\"Rubik\" size=\"5\">Display Media File Metadata"
      ]
    },
    {
      "cell_type": "code",
      "execution_count": null,
      "metadata": {
        "cellView": "form",
        "id": "Sv8au_RO6WUs"
      },
      "outputs": [],
      "source": [
        "import os, sys, re\n",
        "\n",
        "media_file_path = \"\" #@param {type:\"string\"}\n",
        "\n",
        "os.environ['inputFile'] = media_file_path\n",
        "\n",
        "!ffmpeg -i \"$inputFile\" -hide_banner"
      ]
    },
    {
      "cell_type": "markdown",
      "metadata": {
        "id": "X4yIG_nqYAoH"
      },
      "source": [
        "> *You can ignore the* \"`At least one output file must be specified`\" *error after running this.*\n",
        "\n",
        "\n"
      ]
    },
    {
      "cell_type": "markdown",
      "metadata": {
        "id": "66I2t2sQ2SMq"
      },
      "source": [
        "### <font face=\"Rubik\" size=\"4\">» </font><font face=\"Rubik\" size=\"5\">Convert *Video File* ➔ *.mp4* (*Lossless*)"
      ]
    },
    {
      "cell_type": "code",
      "execution_count": null,
      "metadata": {
        "cellView": "form",
        "id": "o6fcC2wN2SM8"
      },
      "outputs": [],
      "source": [
        "import os, sys, re\n",
        "\n",
        "video_file_path = \"\" #@param {type:\"string\"}\n",
        "\n",
        "output_file_path = re.search(\"^[\\/].+\\/\", video_file_path)\n",
        "output_file_path_raw = output_file_path.group(0)\n",
        "delsplit = re.search(\"\\/(?:.(?!\\/))+$\", video_file_path)\n",
        "filename = re.sub(\"^[\\/]\", \"\", delsplit.group(0))\n",
        "filename_raw = re.sub(\".{4}$\", \"\", filename)\n",
        "file_extension = re.search(\".{3}$\", filename)\n",
        "file_extension_raw = file_extension.group(0)\n",
        "\n",
        "os.environ['inputFile'] = video_file_path\n",
        "os.environ['outputPath'] = output_file_path_raw\n",
        "os.environ['startTime'] = start_time\n",
        "os.environ['endTime'] = end_time\n",
        "os.environ['fileName'] = filename_raw\n",
        "os.environ['fileExtension'] = file_extension_raw\n",
        "\n",
        "!ffmpeg -hide_banner -i \"$inputFile\" -c copy -strict -2 \"$outputPath\"/\"$fileName\".mp4"
      ]
    },
    {
      "cell_type": "markdown",
      "metadata": {
        "id": "NObEcBWAJoaz"
      },
      "source": [
        "### <font face=\"Rubik\" size=\"4\">» </font><font face=\"Rubik\" size=\"5\">Convert *Video File* ➔ *.mkv* (*Lossless*)"
      ]
    },
    {
      "cell_type": "code",
      "execution_count": null,
      "metadata": {
        "cellView": "form",
        "id": "zsx4JFLRJoa0"
      },
      "outputs": [],
      "source": [
        "import os, sys, re\n",
        "\n",
        "video_file_path = \"\" #@param {type:\"string\"}\n",
        "\n",
        "output_file_path = re.search(\"^[\\/].+\\/\", video_file_path)\n",
        "output_file_path_raw = output_file_path.group(0)\n",
        "delsplit = re.search(\"\\/(?:.(?!\\/))+$\", video_file_path)\n",
        "filename = re.sub(\"^[\\/]\", \"\", delsplit.group(0))\n",
        "filename_raw = re.sub(\".{4}$\", \"\", filename)\n",
        "file_extension = re.search(\".{3}$\", filename)\n",
        "file_extension_raw = file_extension.group(0)\n",
        "\n",
        "os.environ['inputFile'] = video_file_path\n",
        "os.environ['outputPath'] = output_file_path_raw\n",
        "os.environ['startTime'] = start_time\n",
        "os.environ['endTime'] = end_time\n",
        "os.environ['fileName'] = filename_raw\n",
        "os.environ['fileExtension'] = file_extension_raw\n",
        "\n",
        "!ffmpeg -hide_banner -i \"$inputFile\" -c copy -strict -2 \"$outputPath\"/\"$fileName\".mkv"
      ]
    },
    {
      "cell_type": "markdown",
      "metadata": {
        "id": "FpJXJiRl6-gK"
      },
      "source": [
        "### <font face=\"Rubik\" size=\"4\">» </font><font face=\"Rubik\" size=\"5\">Trim Video File (*Lossless*)"
      ]
    },
    {
      "cell_type": "code",
      "execution_count": null,
      "metadata": {
        "cellView": "form",
        "id": "8rjW6Fcb2SN0"
      },
      "outputs": [],
      "source": [
        "import os, sys, re\n",
        "\n",
        "video_file_path = \"\" #@param {type:\"string\"}\n",
        "start_time = \"00:00:00.000\" #@param {type:\"string\"}\n",
        "end_time = \"00:01:00.000\" #@param {type:\"string\"}\n",
        "\n",
        "output_file_path = re.search(\"^[\\/].+\\/\", video_file_path)\n",
        "output_file_path_raw = output_file_path.group(0)\n",
        "delsplit = re.search(\"\\/(?:.(?!\\/))+$\", video_file_path)\n",
        "filename = re.sub(\"^[\\/]\", \"\", delsplit.group(0))\n",
        "filename_raw = re.sub(\".{4}$\", \"\", filename)\n",
        "file_extension = re.search(\".{3}$\", filename)\n",
        "file_extension_raw = file_extension.group(0)\n",
        "\n",
        "os.environ['inputFile'] = video_file_path\n",
        "os.environ['outputPath'] = output_file_path_raw\n",
        "os.environ['startTime'] = start_time\n",
        "os.environ['endTime'] = end_time\n",
        "os.environ['fileName'] = filename_raw\n",
        "os.environ['fileExtension'] = file_extension_raw\n",
        "\n",
        "!ffmpeg -hide_banner -i \"$inputFile\" -ss \"$startTime\" -to \"$endTime\" -c copy \"$outputPath\"/\"$fileName\"-TRIM.\"$fileExtension\""
      ]
    },
    {
      "cell_type": "markdown",
      "metadata": {
        "id": "SNDGdMRn3PA-"
      },
      "source": [
        "### <font face=\"Rubik\" size=\"4\">» </font><font face=\"Rubik\" size=\"5\">Crop Video"
      ]
    },
    {
      "cell_type": "markdown",
      "metadata": {
        "id": "KFcIThDuBii_"
      },
      "source": [
        "<h3> Crop Variables Explanation:\n",
        "\n",
        "* `out_width` = The width of your cropped video file.\n",
        "* `out_height` = The height of your cropped video file.\n",
        "* `starting_position_x` & `starting_position_y` = These values define the x & y coordinates of the top left corner of your original video to start cropping from.\n",
        "\n",
        "###### *Example: For cropping the black bars from a video that looked like* [this](https://yuju.pw/y/312r.png):\n",
        "* *For your starting coordinates* (`x` , `y`) *you would use* (`0` , `138`).\n",
        "* *For* `out_width` *you would use* `1920`. *And for* `out_height` *you would use `804`.*\n",
        "\n",
        "\n",
        "\n"
      ]
    },
    {
      "cell_type": "code",
      "execution_count": null,
      "metadata": {
        "cellView": "form",
        "id": "wuMEJdjV2SOT"
      },
      "outputs": [],
      "source": [
        "import os, sys, re\n",
        "\n",
        "video_file_path = \"\" #@param {type:\"string\"}\n",
        "out_width = \"1920\" #@param {type:\"string\"}\n",
        "out_height = \"804\" #@param {type:\"string\"}\n",
        "starting_position_x = \"0\" #@param {type:\"string\"}\n",
        "starting_position_y = \"138\" #@param {type:\"string\"}\n",
        "\n",
        "output_file_path = re.search(\"^[\\/].+\\/\", video_file_path)\n",
        "output_file_path_raw = output_file_path.group(0)\n",
        "delsplit = re.search(\"\\/(?:.(?!\\/))+$\", video_file_path)\n",
        "filename = re.sub(\"^[\\/]\", \"\", delsplit.group(0))\n",
        "filename_raw = re.sub(\".{4}$\", \"\", filename)\n",
        "file_extension = re.search(\".{3}$\", filename)\n",
        "file_extension_raw = file_extension.group(0)\n",
        "\n",
        "os.environ['inputFile'] = video_file_path\n",
        "os.environ['outputPath'] = output_file_path_raw\n",
        "os.environ['outWidth'] = out_width\n",
        "os.environ['outHeight'] = out_height\n",
        "os.environ['positionX'] = starting_position_x\n",
        "os.environ['positionY'] = starting_position_y\n",
        "os.environ['fileName'] = filename_raw\n",
        "os.environ['fileExtension'] = file_extension_raw\n",
        "\n",
        "!ffmpeg -hide_banner -i \"$inputFile\" -filter:v \"crop=$outWidth:$outHeight:$positionX:$positionY\" \"$outputPath\"/\"$fileName\"-CROP.\"$fileExtension\""
      ]
    },
    {
      "cell_type": "markdown",
      "metadata": {
        "id": "2f-THZmDoOaY"
      },
      "source": [
        "### <font face=\"Rubik\" size=\"4\">» </font><font face=\"Rubik\" size=\"5\">Extract Audio from Video File (*Lossless*)"
      ]
    },
    {
      "cell_type": "code",
      "execution_count": null,
      "metadata": {
        "cellView": "form",
        "id": "JNckCucf2SOs"
      },
      "outputs": [],
      "source": [
        "import os, sys, re\n",
        "\n",
        "video_file_path = \"\" #@param {type:\"string\"}\n",
        "output_file_extension = 'm4a' #@param [\"m4a\", \"mp3\", \"opus\", \"flac\", \"wav\"]\n",
        "\n",
        "delsplit = re.search(\"\\/(?:.(?!\\/))+$\", video_file_path)\n",
        "output_file_path = re.search(\"^[\\/].+\\/\", video_file_path)\n",
        "filename = re.sub(\"^[\\/]\", \"\", delsplit.group(0))\n",
        "filename_raw = re.sub(\".{4}$\", \"\", filename)\n",
        "\n",
        "os.environ['inputFile'] = video_file_path\n",
        "os.environ['outputPath'] = output_file_path.group(0)\n",
        "os.environ['fileName'] = filename_raw\n",
        "os.environ['fileType'] = output_file_extension\n",
        "\n",
        "!ffmpeg -hide_banner -i \"$inputFile\" -vn -c:a copy \"$outputPath\"/\"$fileName\"-audio.\"$fileType\""
      ]
    },
    {
      "cell_type": "markdown",
      "metadata": {
        "id": "MSUasbRUDP3B"
      },
      "source": [
        "### <font face=\"Rubik\" size=\"4\">» </font><font face=\"Rubik\" size=\"5\">Re-encode a Video to a Different Resolution"
      ]
    },
    {
      "cell_type": "code",
      "execution_count": null,
      "metadata": {
        "cellView": "form",
        "id": "nd2LvSRZCxRe"
      },
      "outputs": [],
      "source": [
        "import os, sys, re\n",
        "\n",
        "video_file_path = '' #@param {type:\"string\"}\n",
        "resolution = '1080p' #@param [\"2160p\", \"1440p\", \"1080p\", \"720p\", \"480p\", \"360p\", \"240p\"]\n",
        "file_type = 'mp4' #@param [\"mkv\", \"mp4\"]\n",
        "\n",
        "delsplit = re.search(\"\\/(?:.(?!\\/))+$\", video_file_path)\n",
        "testsplit = video_file_path.split(\"/\")\n",
        "filename = re.sub(\"^[\\/]\", \"\", delsplit.group(0))\n",
        "filename_raw = re.sub(\".{4}$\", \"\", filename)\n",
        "resolution_raw = re.search(\"[^p]{3,4}\", resolution)\n",
        "output_file_path = re.search(\"^[\\/].+\\/\", video_file_path)\n",
        "\n",
        "os.environ['inputFile'] = video_file_path\n",
        "os.environ['outputPath'] = output_file_path.group(0)\n",
        "os.environ['fileName'] = filename_raw\n",
        "os.environ['fileType'] = file_type\n",
        "os.environ['resolutionHeight'] = resolution_raw.group(0)\n",
        "\n",
        "!ffmpeg -hide_banner -i \"$inputFile\" -vf \"scale=-1:\"$resolutionHeight\"\" -c:a copy -strict experimental \"$outputPath\"/\"$fileName\"-\"$resolutionHeight\"p.\"$fileType\""
      ]
    },
    {
      "cell_type": "markdown",
      "metadata": {
        "id": "9UagRtLPyKoQ"
      },
      "source": [
        "### <font face=\"Rubik\" size=\"4\">» </font><font face=\"Rubik\" size=\"5\">Extract Individual Frames from Video"
      ]
    },
    {
      "cell_type": "code",
      "execution_count": null,
      "metadata": {
        "cellView": "form",
        "id": "jTnByMhAyKoF"
      },
      "outputs": [],
      "source": [
        "#@markdown This will create a folder in the same directory titled \"`Extracted Frames`\"\n",
        "* [*Example*](https://yuju.pw/y/36pP.png) *of output folder*\n",
        "import os, sys, re\n",
        "\n",
        "video_file_path = \"\" #@param {type:\"string\"}\n",
        "start_time = \"00:00:00.000\" #@param {type:\"string\"}\n",
        "end_time = \"00:01:00.000\" #@param {type:\"string\"}\n",
        "frame_rate = \"23.976\" #@param {type:\"string\"}\n",
        "\n",
        "output_file_path = re.search(\"^[\\/].+\\/\", video_file_path)\n",
        "output_file_path_raw = output_file_path.group(0)\n",
        "delsplit = re.search(\"\\/(?:.(?!\\/))+$\", video_file_path)\n",
        "filename = re.sub(\"^[\\/]\", \"\", delsplit.group(0))\n",
        "filename_raw = re.sub(\".{4}$\", \"\", filename)\n",
        "file_extension = re.search(\".{3}$\", filename)\n",
        "file_extension_raw = file_extension.group(0)\n",
        "\n",
        "os.environ['inputFile'] = video_file_path\n",
        "os.environ['outputPath'] = output_file_path_raw\n",
        "os.environ['startTime'] = start_time\n",
        "os.environ['endTime'] = end_time\n",
        "os.environ['frameRate'] = frame_rate\n",
        "os.environ['fileName'] = filename_raw\n",
        "os.environ['fileExtension'] = file_extension_raw\n",
        "\n",
        "!mkdir \"$outputPath\"/\"Extracted Frames\"\n",
        "!ffmpeg -hide_banner -i \"$inputFile\" -ss \"$startTime\" -to \"$endTime\" -r \"$frameRate\"/1 \"$outputPath\"/\"Extracted Frames\"/frame%04d.png"
      ]
    },
    {
      "cell_type": "markdown",
      "metadata": {
        "id": "9ZcgdPBT2SQK"
      },
      "source": [
        "### <font face=\"Rubik\" size=\"4\">» </font><font face=\"Rubik\" size=\"5\">Generate Thumbnails - Preview from Video (3x2)"
      ]
    },
    {
      "cell_type": "code",
      "execution_count": null,
      "metadata": {
        "cellView": "form",
        "id": "J2u-Rha8miNy"
      },
      "outputs": [],
      "source": [
        "#@markdown Example of output image: https://yuju.pw/y/39i2.png <br>\n",
        "import os, sys, re\n",
        "\n",
        "video_file_path = \"\" #@param {type:\"string\"}\n",
        "output_file_type = 'png' #@param [\"png\", \"jpg\"]\n",
        "\n",
        "output_file_path = re.search(\"^[\\/].+\\/\", video_file_path)\n",
        "output_file_path_raw = output_file_path.group(0)\n",
        "delsplit = re.search(\"\\/(?:.(?!\\/))+$\", video_file_path)\n",
        "filename = re.sub(\"^[\\/]\", \"\", delsplit.group(0))\n",
        "filename_raw = re.sub(\".{4}$\", \"\", filename)\n",
        "file_extension = re.search(\".{3}$\", filename)\n",
        "file_extension_raw = file_extension.group(0)\n",
        "\n",
        "os.environ['inputFile'] = video_file_path\n",
        "os.environ['outputPath'] = output_file_path_raw\n",
        "os.environ['outputExtension'] = output_file_type\n",
        "os.environ['fileName'] = filename_raw\n",
        "os.environ['fileExtension'] = file_extension_raw\n",
        "\n",
        "!ffmpeg -hide_banner -i \"$inputFile\" -vframes 1 -q:v 2 -vf \"select=not(mod(n\\,200)),scale=-1:480,tile=3x2\" -an \"$outputPath\"/\"$fileName\"_thumbnails.\"$outputExtension\""
      ]
    },
    {
      "cell_type": "markdown",
      "metadata": {
        "id": "7-3O4en4C4IL"
      },
      "source": [
        "### <font face=\"Rubik\" size=\"4\">» </font><font face=\"Rubik\" size=\"5\">Convert Audio Filetype (*mp3, m4a, ogg, flac, etc.*)"
      ]
    },
    {
      "cell_type": "code",
      "execution_count": null,
      "metadata": {
        "cellView": "form",
        "id": "2sKzNHSG2SQq"
      },
      "outputs": [],
      "source": [
        "import os, sys, re\n",
        "\n",
        "audio_file_path = \"\" #@param {type:\"string\"}\n",
        "output_file_type = \"mp3\" #@param [\"mp3\", \"ogg\", \"m4a\", \"opus\", \"flac\", \"alac\", \"wav\"]\n",
        "\n",
        "output_file_path = re.search(\"^[\\/].+\\/\", audio_file_path)\n",
        "output_file_path_raw = output_file_path.group(0)\n",
        "delsplit = re.search(\"\\/(?:.(?!\\/))+$\", audio_file_path)\n",
        "filename = re.sub(\"^[\\/]\", \"\", delsplit.group(0))\n",
        "filename_raw = re.sub(\".{4}$\", \"\", filename)\n",
        "file_extension = re.search(\".{3}$\", filename)\n",
        "file_extension_raw = file_extension.group(0)\n",
        "\n",
        "os.environ['inputFile'] = audio_file_path\n",
        "os.environ['outputPath'] = output_file_path_raw\n",
        "os.environ['fileExtension'] = output_file_type\n",
        "os.environ['fileName'] = filename_raw\n",
        "\n",
        "!ffmpeg -hide_banner -i \"$inputFile\" \"$outputPath\"/\"$fileName\"converted.\"$fileExtension\""
      ]
    },
    {
      "cell_type": "markdown",
      "metadata": {
        "id": "VRk2Ye1exWVA"
      },
      "source": [
        "### <font face=\"Rubik\" size=\"4\">» </font><font face=\"Rubik\" size=\"5\">Extract + Upload Frames from Video</font>"
      ]
    },
    {
      "cell_type": "code",
      "execution_count": null,
      "metadata": {
        "cellView": "form",
        "id": "BIGsgarfxWVI"
      },
      "outputs": [],
      "source": [
        "import os, re, time, pathlib\n",
        "import urllib.request\n",
        "from IPython.display import clear_output\n",
        "\n",
        "Auto_UP_Gdrive = False  \n",
        "AUTO_MOVE_PATH = \"/content\" \n",
        "HOME = os.path.expanduser(\"~\")\n",
        "pathDoneCMD = f'{HOME}/doneCMD.sh'\n",
        "\n",
        "if not os.path.exists(f\"{HOME}/.ipython/ttmg.py\"):\n",
        "    hCode = \"https://raw.githubusercontent.com/biplobsd/\" \\\n",
        "                \"Google-Colab-CloudTorrent/master/res/ttmg.py\"\n",
        "    urllib.request.urlretrieve(hCode, f\"{HOME}/.ipython/ttmg.py\")\n",
        "\n",
        "from ttmg import (\n",
        "    runSh,\n",
        "    findProcess,\n",
        "    loadingAn,\n",
        "    updateCheck,\n",
        "    ngrok\n",
        ")\n",
        "\n",
        "video_file_path = \"\" #@param {type:\"string\"}\n",
        "\n",
        "output_file_path = re.search(\"^[\\/].+\\/\", video_file_path)\n",
        "output_file_path_raw = output_file_path.group(0)\n",
        "delsplit = re.search(\"\\/(?:.(?!\\/))+$\", video_file_path)\n",
        "filename = re.sub(\"^[\\/]\", \"\", delsplit.group(0))\n",
        "filename_raw = re.sub(\".{4}$\", \"\", filename)\n",
        "file_extension = re.search(\".{3}$\", filename)\n",
        "file_extension_raw = file_extension.group(0)\n",
        "\n",
        "os.environ['inputFile'] = video_file_path\n",
        "os.environ['outputPath'] = output_file_path_raw\n",
        "os.environ['fileName'] = filename_raw\n",
        "os.environ['fileExtension'] = file_extension_raw\n",
        "\n",
        "!mkdir -p \"/content/frames\"\n",
        "\n",
        "for i in range(10):\n",
        "    clear_output()\n",
        "    loadingAn()\n",
        "    print(\"Uploading Frames...\")\n",
        "\n",
        "%cd \"/content/frames\"\n",
        "!ffmpeg -hide_banner -ss 00:56.0 -i \"$inputFile\" -vframes 1 -q:v 1 -y \"/content/frames/frame1.png\"\n",
        "!curl --silent -F \"reqtype=fileupload\" -F \"fileToUpload=@frame1.png\" https://catbox.moe/user/api.php -o frame1.txt\n",
        "f1 = open('frame1.txt', 'r')\n",
        "%cd \"/content\"\n",
        "file_content1 = f1.read()\n",
        "\n",
        "%cd \"/content/frames\"\n",
        "!ffmpeg -hide_banner -ss 02:20.0 -i \"$inputFile\" -vframes 1 -q:v 1 -y \"/content/frames/frame2.png\"\n",
        "!curl --silent -F \"reqtype=fileupload\" -F \"fileToUpload=@frame2.png\" https://catbox.moe/user/api.php -o frame2.txt\n",
        "%cd \"/content/frames\"\n",
        "f2 = open('frame2.txt', 'r')\n",
        "%cd \"/content\"\n",
        "file_content2 = f2.read()\n",
        "\n",
        "clear_output()\n",
        "print (\"Screenshot URLs:\")\n",
        "print (\"1. \" + file_content1)\n",
        "print (\"2. \" + file_content2)"
      ]
    },
    {
      "cell_type": "markdown",
      "metadata": {
        "id": "tozwpAhhnm69"
      },
      "source": [
        "### <font size=6>MediaInfo</font>"
      ]
    },
    {
      "cell_type": "code",
      "execution_count": null,
      "metadata": {
        "cellView": "form",
        "id": "NTULRguzu0b0"
      },
      "outputs": [],
      "source": [
        "# ============================= FORM ============================= #\n",
        "# @markdown <font size=5>← [Start] MediaInfo</font>\n",
        "path_to_file = \"\" # @param {type:\"string\"}\n",
        "save_output_to_file = False # @param {type:\"boolean\"}\n",
        "# ================================================================ #\n",
        "\n",
        "import os, uuid, re, IPython\n",
        "import ipywidgets as widgets\n",
        "import time\n",
        "from glob import glob\n",
        "from IPython.display import HTML, clear_output\n",
        "\n",
        "def mediainfo():\n",
        "  get_ipython().system_raw(\"\"\"mediainfo --LogFile=\"/root/.nfo\" \"$path_to_file\" \"\"\")\n",
        "  with open('/root/.nfo', 'r') as file:\n",
        "    media = file.read()\n",
        "    media = media.replace(os.path.dirname(path_to_file)+\"/\", \"\")\n",
        "  print(media)\n",
        "  get_ipython().system_raw(\"rm -f '/root/.nfo'\")\n",
        "  \n",
        "  if save_output_to_file:\n",
        "    txt = path.rpartition('.')[0] + \".txt\"\n",
        "    if os.path.exists(txt):\n",
        "      get_ipython().system_raw(\"rm -f '$txt'\")\n",
        "    with open(txt, 'a+') as file:\n",
        "      file.write(media)\n",
        "    \n",
        "if not os.path.exists(\"/usr/bin/mediainfo\"):\n",
        "  get_ipython().system_raw(\"apt-get install mediainfo\")\n",
        "  \n",
        "mediainfo()"
      ]
    },
    {
      "cell_type": "code",
      "execution_count": null,
      "metadata": {
        "cellView": "form",
        "id": "B10h_KlyE_S5"
      },
      "outputs": [],
      "source": [
        "# ============================= FORM ============================= #\n",
        "# @markdown <h3>← Install the Module</h3>\n",
        "# ================================================================ #\n",
        "\n",
        "import os\n",
        "from IPython.display import clear_output\n",
        "\n",
        "!pip install googleDriveFileDownloader\n",
        "\n",
        "path1 = '/content/downloads'\n",
        "path2 = '/content/downloads/Google Drive'\n",
        "\n",
        "if os.path.exists(path1) == False:\n",
        "  os.makedirs(path1)\n",
        "  if os.path.exists(path2) == False:\n",
        "    os.makedirs(path2)\n",
        "  elif os.path.exists(path2) == True:\n",
        "    None\n",
        "elif os.path.exists(path1) == True:\n",
        "  if os.path.exists(path2) == False:\n",
        "    os.makedirs(path2)\n",
        "  elif os.path.exists(path2) == True:\n",
        "    None\n",
        "\n",
        "clear_output()"
      ]
    },
    {
      "cell_type": "code",
      "execution_count": null,
      "metadata": {
        "cellView": "form",
        "id": "mHTDvjRKEs9n"
      },
      "outputs": [],
      "source": [
        "# ============================= FORM ============================= #\n",
        "# @markdown <h3>← [Start] Google Drive Downloader</h3></br>\n",
        "url = \"\" # @param {type:\"string\"}\n",
        "output = \"\" # @param {type:\"string\"}\n",
        "# @markdown > <p>If the \"output\" field is empty, the default download path will be used (/content/downloads/Google Drive).</p>\n",
        "# @markdown > This downloader is somewhat working.</br>The only problem (for now) is that the downloaded file is not stored with the same name and appears to not have extension as well.\n",
        "# ================================================================ #\n",
        "\n",
        "from IPython.display import clear_output\n",
        "from googleDriveFileDownloader import googleDriveFileDownloader\n",
        "\n",
        "if url == '':\n",
        "  print(\"The url field is empty!\")\n",
        "else:\n",
        "  if output == '':\n",
        "    output = '/content/downloads/Google Drive'\n",
        "    %cd \"$output\"\n",
        "    a = googleDriveFileDownloader()\n",
        "    a.downloadFile(url)\n",
        "  else:\n",
        "    %cd \"$output\"\n",
        "    a = googleDriveFileDownloader()\n",
        "    a.downloadFile(url)\n"
      ]
    },
    {
      "cell_type": "markdown",
      "metadata": {
        "id": "FWdEg4H9JlSp"
      },
      "source": [
        "## <font size=6>HandBrake</font>"
      ]
    },
    {
      "cell_type": "code",
      "execution_count": null,
      "metadata": {
        "cellView": "form",
        "id": "E2seNDqYO8wg"
      },
      "outputs": [],
      "source": [
        "# ============================= FORM ============================= #\n",
        "# @markdown <font size=5>← Install HandBrake</font>\n",
        "# ================================================================ #\n",
        "\n",
        "from IPython.display import clear_output\n",
        "from os import makedirs\n",
        "\n",
        "makedirs(\"/content/temp/HandbrakeTemp\", exist_ok = True)\n",
        "\n",
        "!wget -qq https://github.com/vot/ffbinaries-prebuilt/releases/download/v4.2.1/ffmpeg-4.2.1-linux-64.zip \n",
        "!rm -f ffmpeg-4.2.1-linux-64.zip\n",
        "!add-apt-repository ppa:stebbins/handbrake-releases -y \n",
        "!apt-get install -y handbrake-cli\n",
        "\n",
        "clear_output()"
      ]
    },
    {
      "cell_type": "markdown",
      "metadata": {
        "id": "Rd6Br05y7_Ya"
      },
      "source": [
        "## <font size=6>MEGA Downloader</font>"
      ]
    },
    {
      "cell_type": "code",
      "execution_count": null,
      "metadata": {
        "cellView": "form",
        "id": "LeGWoVGW8Eem"
      },
      "outputs": [],
      "source": [
        "# ============================= FORM ============================= #\n",
        "# @markdown <h3>← Install the Module and Dependencies</h3>\n",
        "# ================================================================ #\n",
        "\n",
        "import os\n",
        "from IPython.display import clear_output\n",
        "\n",
        "!pip install git+https://github.com/jeroenmeulenaar/python3-mega.git\n",
        "\n",
        "path1 = '/content/downloads'\n",
        "path2 = '/content/downloads/MEGA'\n",
        "\n",
        "if os.path.exists(path1) == False:\n",
        "  os.makedirs(path1)\n",
        "  if os.path.exists(path2) == False:\n",
        "    os.makedirs(path2)\n",
        "  elif os.path.exists(path2) == True:\n",
        "    None\n",
        "elif os.path.exists(path1) == True:\n",
        "  if os.path.exists(path2) == False:\n",
        "    os.makedirs(path2)\n",
        "  elif os.path.exists(path2) == True:\n",
        "    None\n",
        "\n",
        "clear_output()"
      ]
    },
    {
      "cell_type": "code",
      "execution_count": null,
      "metadata": {
        "cellView": "form",
        "id": "JiZ0tJd78LNQ"
      },
      "outputs": [],
      "source": [
        "# ============================= FORM ============================= #\n",
        "# @markdown <h3>← [Start] MEGA Downloader</h3></br>\n",
        "url = \"\" # @param {type:\"string\"}\n",
        "output = \"\" # @param {type:\"string\"}\n",
        "# @markdown > <p>If the \"output\" field is empty, the default download path will be used (/content/downloads/MEGA).</p>\n",
        "# @markdown > <font color=red>Currently not working due to the module haven't been updated to work with the new MEGA link structure.</font>\n",
        "# ================================================================ #\n",
        "\n",
        "from IPython.display import clear_output\n",
        "from mega import Mega\n",
        "\n",
        "if url == '':\n",
        "  print(\"The url field is empty!\")\n",
        "else:\n",
        "  if output == '':\n",
        "    output = '/content/downloads/MEGA'\n",
        "    %cd /content/downloads/MEGA\n",
        "    m = Mega.from_ephemeral()\n",
        "    m.download_from_url(url)\n",
        "  else:\n",
        "    %cd \"$output\"\n",
        "    m = Mega.from_ephemeral()\n",
        "    m.download_from_url(url)\n"
      ]
    },
    {
      "cell_type": "markdown",
      "metadata": {
        "id": "7bNutSOeJ1kM"
      },
      "source": [
        "## <font size=6>zippyshare Downloader</font>"
      ]
    },
    {
      "cell_type": "code",
      "execution_count": null,
      "metadata": {
        "cellView": "form",
        "id": "if-ge8tzJ305"
      },
      "outputs": [],
      "source": [
        "# ============================= FORM ============================= #\n",
        "# @markdown <h3>← Install the Module and Dependencies</h3>\n",
        "# ================================================================ #\n",
        "\n",
        "import os\n",
        "from IPython.display import clear_output\n",
        "\n",
        "!git clone https://github.com/mcrapet/plowshare.git /content/plowshare\n",
        "clear_output()\n",
        "%cd plowshare\n",
        "clear_output()\n",
        "!make install\n",
        "clear_output()\n",
        "!plowmod --install\n",
        "clear_output()\n",
        "! apt-get install nodejs\n",
        "\n",
        "path1 = '/content/downloads'\n",
        "path2 = '/content/downloads/zippyshare'\n",
        "\n",
        "if os.path.exists(path1) == False:\n",
        "  os.makedirs(path1)\n",
        "  if os.path.exists(path2) == False:\n",
        "    os.makedirs(path2)\n",
        "  elif os.path.exists(path2) == True:\n",
        "    None\n",
        "elif os.path.exists(path1) == True:\n",
        "  if os.path.exists(path2) == False:\n",
        "    os.makedirs(path2)\n",
        "  elif os.path.exists(path2) == True:\n",
        "    None\n",
        "\n",
        "clear_output()"
      ]
    },
    {
      "cell_type": "code",
      "execution_count": null,
      "metadata": {
        "cellView": "form",
        "id": "tO22WPSLKdbH"
      },
      "outputs": [],
      "source": [
        "# ============================= FORM ============================= #\n",
        "# @markdown <h3>← [Start] zippyshare Downloader</h3></br>\n",
        "mode = 'single' #@param [\"single\", \"batch\"]\n",
        "# @markdown ---\n",
        "direct_url = \"\" #@param {type:\"string\"}\n",
        "store_path = \"\" #@param {type:\"string\"}\n",
        "# @markdown > This downloader isn't working as it can't read from zippyshare's weird url (www(random_number).zippyshare)\n",
        "# ================================================================ #\n",
        "\n",
        "import os\n",
        "from IPython.display import clear_output\n",
        "from google.colab import files\n",
        "\n",
        "if mode == 'single':\n",
        "  if direct_url == '':\n",
        "    print(\"The URL field is empty!\")\n",
        "  else:\n",
        "    if store_path == '':\n",
        "      store_path = '/content/downloads/zippyshare'\n",
        "      !plowdown {direct_url} -o {store_path}\n",
        "    else:\n",
        "      !plowdown {direct_url} -o {store_path}\n",
        "elif mode == 'batch':\n",
        "  print(\"Upload a download.txt file that contains a list of zippyshare links.\\n\")\n",
        "  files.upload()\n",
        "  clear_output()\n",
        "  if store_path == '':\n",
        "    store_path = '/content/downloads/zippyshare'\n",
        "    !plowdown {direct_url} -o {store_path}\n",
        "  else:\n",
        "    !plowdown {direct_url} -o {store_path}"
      ]
    },
    {
      "cell_type": "markdown",
      "metadata": {
        "id": "JyUn6Yn8lM_c"
      },
      "source": [
        "## <font size=6>Free-Proxy</font>"
      ]
    },
    {
      "cell_type": "code",
      "execution_count": null,
      "metadata": {
        "id": "K8qprse5lLcb"
      },
      "outputs": [],
      "source": [
        "!pip install free-proxy"
      ]
    },
    {
      "cell_type": "code",
      "execution_count": null,
      "metadata": {
        "id": "jR8t0j98lWG1"
      },
      "outputs": [],
      "source": [
        "from fp.fp import FreeProxy\n",
        "\n",
        "proxy = FreeProxy(country_id=['US', 'AU', 'CA', 'SG', 'JP', 'KR'], timeout=1, rand=False).get()\n",
        "\n",
        "print(proxy)"
      ]
    }
  ]
}